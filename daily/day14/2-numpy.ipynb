{
 "cells": [
  {
   "cell_type": "code",
   "id": "cda6dc03",
   "metadata": {
    "vscode": {
     "languageId": "plaintext"
    },
    "ExecuteTime": {
     "end_time": "2025-06-11T03:17:10.129852Z",
     "start_time": "2025-06-11T03:17:10.026900Z"
    }
   },
   "source": [
    "# 导入NumPy库，并将其重命名为np，方便后续使用\n",
    "import numpy as np\n",
    "# 导入time模块，用于测量代码执行时间\n",
    "import time\n",
    "\n",
    "# 创建一个包含1000000个元素的Python列表，元素从0到999999\n",
    "python_list = list(range(1000000))\n",
    "\n",
    "# 创建一个包含1000000个元素的NumPy数组，元素从0到999999\n",
    "numpy_array = np.arange(1000000)\n",
    "\n",
    "# 记录Python列表平方运算开始时间\n",
    "start_time_list = time.time()\n",
    "# 使用列表推导式计算Python列表中每个元素的平方\n",
    "squared_list = [i ** 2 for i in python_list]\n",
    "# 记录Python列表平方运算结束时间\n",
    "end_time_list = time.time()\n",
    "# 计算Python列表平方运算所花费的时间\n",
    "list_time = end_time_list - start_time_list\n",
    "\n",
    "# 记录NumPy数组平方运算开始时间\n",
    "start_time_numpy = time.time()\n",
    "# 对NumPy数组中的每个元素进行平方运算\n",
    "squared_numpy = numpy_array ** 2\n",
    "# 记录NumPy数组平方运算结束时间\n",
    "end_time_numpy = time.time()\n",
    "# 计算NumPy数组平方运算所花费的时间\n",
    "numpy_time = end_time_numpy - start_time_numpy\n",
    "\n",
    "# 打印Python列表平方运算所花费的时间\n",
    "print(f\"Python列表平方运算耗时: {list_time} 秒\")\n",
    "# 打印NumPy数组平方运算所花费的时间\n",
    "print(f\"NumPy数组平方运算耗时: {numpy_time} 秒\")\n",
    "# 打印NumPy数组相对于Python列表快的倍数\n",
    "print(f\"NumPy数组比Python列表快 {list_time / numpy_time} 倍\")\n"
   ],
   "outputs": [
    {
     "name": "stdout",
     "output_type": "stream",
     "text": [
      "Python列表平方运算耗时: 0.033263444900512695 秒\n",
      "NumPy数组平方运算耗时: 0.0010001659393310547 秒\n",
      "NumPy数组比Python列表快 33.25792610250298 倍\n"
     ]
    }
   ],
   "execution_count": 1
  },
  {
   "metadata": {},
   "cell_type": "markdown",
   "source": "# 4 NumPy 的Ndarray 对象",
   "id": "4327c8a95dfd19d"
  },
  {
   "cell_type": "code",
   "execution_count": null,
   "id": "e9d786b5",
   "metadata": {},
   "outputs": [],
   "source": []
  },
  {
   "cell_type": "code",
   "execution_count": null,
   "id": "16febfe8",
   "metadata": {},
   "outputs": [],
   "source": []
  },
  {
   "cell_type": "code",
   "execution_count": null,
   "id": "bba65d1b",
   "metadata": {},
   "outputs": [],
   "source": []
  },
  {
   "cell_type": "code",
   "execution_count": null,
   "id": "9881c9e2",
   "metadata": {},
   "outputs": [],
   "source": []
  }
 ],
 "metadata": {
  "kernelspec": {
   "display_name": "Python 3",
   "language": "python",
   "name": "python3"
  },
  "language_info": {
   "codemirror_mode": {
    "name": "ipython",
    "version": 2
   },
   "file_extension": ".py",
   "mimetype": "text/x-python",
   "name": "python",
   "nbconvert_exporter": "python",
   "pygments_lexer": "ipython2",
   "version": "2.7.6"
  }
 },
 "nbformat": 4,
 "nbformat_minor": 5
}
