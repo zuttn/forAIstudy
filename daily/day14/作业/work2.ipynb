{
 "cells": [
  {
   "cell_type": "code",
   "execution_count": 1,
   "id": "initial_id",
   "metadata": {
    "ExecuteTime": {
     "end_time": "2025-06-11T14:11:38.414397Z",
     "start_time": "2025-06-11T14:11:38.187203Z"
    },
    "collapsed": true
   },
   "outputs": [
    {
     "name": "stdout",
     "output_type": "stream",
     "text": [
      "普通列表加法耗时: 0.06813645362854004 秒\n",
      "numpy 数组加法耗时: 0.0009999275207519531 秒\n",
      "numpy 比普通列表快 68.1413924654268 倍\n"
     ]
    }
   ],
   "source": [
    "import numpy as np\n",
    "import time\n",
    "\n",
    "# 定义列表和数组的大小\n",
    "size = 1000000\n",
    "\n",
    "# 测试普通列表的加法性能\n",
    "list1 = list(range(size))\n",
    "list2 = list(range(size))\n",
    "\n",
    "start_time_list = time.time()\n",
    "result_list = [a + b for a, b in zip(list1, list2)]\n",
    "end_time_list = time.time()\n",
    "time_list = end_time_list - start_time_list\n",
    "\n",
    "# 测试 numpy 数组的加法性能\n",
    "array1 = np.arange(size)\n",
    "array2 = np.arange(size)\n",
    "\n",
    "start_time_numpy = time.time()\n",
    "result_numpy = array1 + array2\n",
    "end_time_numpy = time.time()\n",
    "time_numpy = end_time_numpy - start_time_numpy\n",
    "\n",
    "# 输出结果\n",
    "print(f\"普通列表加法耗时: {time_list} 秒\")\n",
    "print(f\"numpy 数组加法耗时: {time_numpy} 秒\")\n",
    "print(f\"numpy 比普通列表快 {time_list / time_numpy} 倍\")\n",
    "\n"
   ]
  }
 ],
 "metadata": {
  "kernelspec": {
   "display_name": "Python 3",
   "language": "python",
   "name": "python3"
  },
  "language_info": {
   "codemirror_mode": {
    "name": "ipython",
    "version": 3
   },
   "file_extension": ".py",
   "mimetype": "text/x-python",
   "name": "python",
   "nbconvert_exporter": "python",
   "pygments_lexer": "ipython3",
   "version": "3.12.3"
  }
 },
 "nbformat": 4,
 "nbformat_minor": 5
}
