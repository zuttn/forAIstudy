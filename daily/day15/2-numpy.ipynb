{
 "cells": [
  {
   "cell_type": "code",
   "execution_count": 1,
   "id": "cda6dc03",
   "metadata": {
    "ExecuteTime": {
     "end_time": "2025-06-11T03:17:10.129852Z",
     "start_time": "2025-06-11T03:17:10.026900Z"
    }
   },
   "outputs": [
    {
     "name": "stdout",
     "output_type": "stream",
     "text": [
      "Python列表平方运算耗时: 0.032610416412353516 秒\n",
      "NumPy数组平方运算耗时: 0.0009875297546386719 秒\n",
      "NumPy数组比Python列表快 33.02221149203283 倍\n"
     ]
    }
   ],
   "source": [
    "# 导入NumPy库，并将其重命名为np，方便后续使用\n",
    "import numpy as np\n",
    "# 导入time模块，用于测量代码执行时间\n",
    "import time\n",
    "\n",
    "# 创建一个包含1000000个元素的Python列表，元素从0到999999\n",
    "python_list = list(range(1000000))\n",
    "\n",
    "# 创建一个包含1000000个元素的NumPy数组，元素从0到999999\n",
    "numpy_array = np.arange(1000000)\n",
    "\n",
    "# 记录Python列表平方运算开始时间\n",
    "start_time_list = time.time()\n",
    "# 使用列表推导式计算Python列表中每个元素的平方\n",
    "squared_list = [i ** 2 for i in python_list]\n",
    "# 记录Python列表平方运算结束时间\n",
    "end_time_list = time.time()\n",
    "# 计算Python列表平方运算所花费的时间\n",
    "list_time = end_time_list - start_time_list\n",
    "\n",
    "# 记录NumPy数组平方运算开始时间\n",
    "start_time_numpy = time.time()\n",
    "# 对NumPy数组中的每个元素进行平方运算\n",
    "squared_numpy = numpy_array ** 2\n",
    "# 记录NumPy数组平方运算结束时间\n",
    "end_time_numpy = time.time()\n",
    "# 计算NumPy数组平方运算所花费的时间\n",
    "numpy_time = end_time_numpy - start_time_numpy\n",
    "\n",
    "# 打印Python列表平方运算所花费的时间\n",
    "print(f\"Python列表平方运算耗时: {list_time} 秒\")\n",
    "# 打印NumPy数组平方运算所花费的时间\n",
    "print(f\"NumPy数组平方运算耗时: {numpy_time} 秒\")\n",
    "# 打印NumPy数组相对于Python列表快的倍数\n",
    "print(f\"NumPy数组比Python列表快 {list_time / numpy_time} 倍\")\n"
   ]
  },
  {
   "cell_type": "markdown",
   "id": "4327c8a95dfd19d",
   "metadata": {},
   "source": [
    "# 4 NumPy 的Ndarray 对象"
   ]
  },
  {
   "cell_type": "code",
   "execution_count": null,
   "id": "e9d786b5",
   "metadata": {},
   "outputs": [
    {
     "name": "stdout",
     "output_type": "stream",
     "text": [
      "<class 'numpy.ndarray'>\n",
      "[1 2 3 4]\n"
     ]
    }
   ],
   "source": [
    "list1 = [1,2,3,4]\n",
    "oneArray = np.array(list1) \n",
    "print(type(oneArray))\n",
    "print(oneArray) #输出结果之间是没有逗号"
   ]
  },
  {
   "cell_type": "code",
   "execution_count": null,
   "id": "16febfe8",
   "metadata": {},
   "outputs": [
    {
     "name": "stdout",
     "output_type": "stream",
     "text": [
      "[0 1 2 3 4 5 6 7 8 9]\n"
     ]
    },
    {
     "data": {
      "text/plain": [
       "numpy.ndarray"
      ]
     },
     "execution_count": 5,
     "metadata": {},
     "output_type": "execute_result"
    }
   ],
   "source": [
    "# 2. 传入range生成序列\n",
    "t2 = np.array(range(10)) \n",
    "print(t2)\n",
    "type(t2)  #默认最后一个位置会输出，前面的变量要输出要加print"
   ]
  },
  {
   "cell_type": "code",
   "execution_count": 6,
   "id": "bba65d1b",
   "metadata": {},
   "outputs": [
    {
     "name": "stdout",
     "output_type": "stream",
     "text": [
      "[0 2 4 6 8]\n"
     ]
    }
   ],
   "source": [
    "#  3. 使用numpy自带的np.arange()生成数组\n",
    "t3 = np.arange(0,10,2) \n",
    "print(t3) "
   ]
  },
  {
   "cell_type": "code",
   "execution_count": null,
   "id": "9881c9e2",
   "metadata": {},
   "outputs": [
    {
     "name": "stdout",
     "output_type": "stream",
     "text": [
      "数组的形状: (3, 2)\n",
      "数组的维度: 2\n",
      "数组中元素的总数: 6\n",
      "数组中元素的数据类型: int32\n",
      "数组每个元素的字节大小: 4\n"
     ]
    }
   ],
   "source": [
    "list2 = [[1,2],[3,4],[5,6]]\n",
    "\n",
    "twoArray = np.array(list2)\n",
    "# 显示数组的形状\n",
    "print(\"数组的形状:\", twoArray.shape)\n",
    "# 显示数组的维度\n",
    "print(\"数组的维度:\", twoArray.ndim)\n",
    "# 显示数组中元素的总数\n",
    "print(\"数组中元素的总数:\", twoArray.size)\n",
    "# 显示数组中元素的数据类型，ndarray的整数不是无穷大\n",
    "print(\"数组中元素的数据类型:\", twoArray.dtype)\n",
    "# 显示数组每个元素的字节大小\n",
    "print(\"数组每个元素的字节大小:\", twoArray.itemsize)\n",
    "\n"
   ]
  },
  {
   "cell_type": "code",
   "execution_count": 10,
   "id": "31b2bbf8",
   "metadata": {},
   "outputs": [
    {
     "name": "stdout",
     "output_type": "stream",
     "text": [
      "[[1 2]\n",
      " [3 4]\n",
      " [5 6]]\n",
      "[[1 2 3]\n",
      " [4 5 6]]\n"
     ]
    }
   ],
   "source": [
    "#改变数组形状\n",
    "four = np.array([[1,2,3],[4,5,6]])\n",
    "\n",
    "# 修改的是原有的\n",
    "four.shape = (3,2) \n",
    "print(four)\n",
    "\n",
    "# 返回一个新的数组\n",
    "five = four.reshape(2,3) \n",
    "print(five)"
   ]
  },
  {
   "cell_type": "code",
   "execution_count": null,
   "id": "5add8c5f13bf2979",
   "metadata": {},
   "outputs": [
    {
     "name": "stdout",
     "output_type": "stream",
     "text": [
      "[1 3 5 2 4 6]\n",
      "[1 2 3 4 5 6]\n"
     ]
    }
   ],
   "source": [
    "# 将多维变成一维数组\n",
    "five = four.reshape((6,),order='C')\n",
    "# 默认情况下‘C’以行为主的顺序展开，‘F’（Fortran风格）意味着以列的顺序展开\n",
    "six = four.flatten(order='C') \n",
    "print(five)\n",
    "print(six)"
   ]
  },
  {
   "cell_type": "code",
   "execution_count": null,
   "id": "f0f01867",
   "metadata": {},
   "outputs": [
    {
     "name": "stdout",
     "output_type": "stream",
     "text": [
      "[[1 2]\n",
      " [3 4]\n",
      " [5 6]]\n"
     ]
    }
   ],
   "source": [
    "seven=six.reshape(3,2) #当你把一个数组改变形状到低维后，再次回到高维，元素的位置和最初是 一致的\n",
    "print(seven)"
   ]
  },
  {
   "cell_type": "code",
   "execution_count": 17,
   "id": "435a868f",
   "metadata": {},
   "outputs": [
    {
     "name": "stdout",
     "output_type": "stream",
     "text": [
      "[ 0  1  2  3  4  5  6  7  8  9 10 11 12 13 14 15 16 17 18 19 20 21 22 23]\n",
      "(24,)\n",
      "<class 'tuple'>\n"
     ]
    }
   ],
   "source": [
    "t = np.arange(24) \n",
    "print(t)\n",
    "print(t.shape)\n",
    "print(type(t.shape))"
   ]
  },
  {
   "cell_type": "code",
   "execution_count": 18,
   "id": "ee8043d0",
   "metadata": {},
   "outputs": [
    {
     "name": "stdout",
     "output_type": "stream",
     "text": [
      "[[ 0  1  2  3  4  5]\n",
      " [ 6  7  8  9 10 11]\n",
      " [12 13 14 15 16 17]\n",
      " [18 19 20 21 22 23]]\n",
      "(4, 6)\n"
     ]
    }
   ],
   "source": [
    "# 转换成二维\n",
    "t1 = t.reshape((4,6)) \n",
    "print(t1)\n",
    "print(t1.shape)"
   ]
  },
  {
   "cell_type": "code",
   "execution_count": 20,
   "id": "082a6862",
   "metadata": {},
   "outputs": [
    {
     "name": "stdout",
     "output_type": "stream",
     "text": [
      "[0 1 2 3 4 5]\n",
      "(6,)\n",
      "[[0 1 2 3 4 5]]\n",
      "(1, 6)\n"
     ]
    }
   ],
   "source": [
    "t = np.arange(6) \n",
    "print(t)\n",
    "print(t.shape)\n",
    "t1=t.reshape((1,6))\n",
    "print(t1)\n",
    "print(t1.shape)\n"
   ]
  },
  {
   "cell_type": "code",
   "execution_count": 21,
   "id": "dee5f084",
   "metadata": {},
   "outputs": [
    {
     "name": "stdout",
     "output_type": "stream",
     "text": [
      "[9, 12, 88, 14, 25]\n",
      "<class 'list'>\n"
     ]
    }
   ],
   "source": [
    "# 将数组转成list\n",
    "a= np.array([9, 12, 88, 14, 25])\n",
    "list_a = a.tolist() \n",
    "print(list_a) \n",
    "print(type(list_a))"
   ]
  },
  {
   "cell_type": "markdown",
   "id": "afcc9c2a",
   "metadata": {},
   "source": [
    "# 5 数据类型"
   ]
  },
  {
   "cell_type": "code",
   "execution_count": 2,
   "id": "f04b2780",
   "metadata": {
    "ExecuteTime": {
     "end_time": "2025-06-12T02:25:02.761366Z",
     "start_time": "2025-06-12T02:25:02.695793Z"
    }
   },
   "outputs": [
    {
     "name": "stdout",
     "output_type": "stream",
     "text": [
      "2\n",
      "int16\n",
      "int64\n",
      "0.54\n",
      "[0.29100748 0.10999504 0.9742345  0.79910943 0.11798756 0.94172756\n",
      " 0.08112061 0.23144215 0.5036637  0.3966648 ]\n",
      "[0.29 0.11 0.97 0.8  0.12 0.94 0.08 0.23 0.5  0.4 ]\n"
     ]
    },
    {
     "data": {
      "text/plain": [
       "dtype('float64')"
      ]
     },
     "execution_count": 2,
     "metadata": {},
     "output_type": "execute_result"
    }
   ],
   "source": [
    "import numpy as np\n",
    "import random\n",
    "# 返回数组中每个元素的字节单位长度，dtype设置数据类型\n",
    "f = np.array([1,2,3,4,5], dtype = np.int16) \n",
    "print(f.itemsize) # \n",
    "# 获取数据类型\n",
    "print(f.dtype)\n",
    "\n",
    "# 调整数据类型\n",
    "f1 = f.astype(np.int64) \n",
    "print(f1.dtype)\n",
    "\n",
    "# 拓展随机生成小数\n",
    "# 使用python语法，保留两位\n",
    "print(round(random.random(),2))\n",
    "\n",
    "arr = np.array([random.random() for i in range(10)]) #默认是float64\n",
    "print(arr)\n",
    "# 取小数点后两位,四舍五入\n",
    "print(np.round(arr,2))\n",
    "arr.dtype"
   ]
  },
  {
   "cell_type": "markdown",
   "id": "75746d2e",
   "metadata": {},
   "source": [
    "# 6 数组的计算"
   ]
  },
  {
   "cell_type": "code",
   "execution_count": 27,
   "id": "6b560962",
   "metadata": {},
   "outputs": [
    {
     "name": "stdout",
     "output_type": "stream",
     "text": [
      "[[ 2  3  4  5]\n",
      " [ 6  7  8  9]\n",
      " [10 11 12 13]\n",
      " [14 15 16 17]\n",
      " [18 19 20 21]\n",
      " [22 23 24 25]]\n",
      "--------------------\n",
      "[[ 0  2  4  6]\n",
      " [ 8 10 12 14]\n",
      " [16 18 20 22]\n",
      " [24 26 28 30]\n",
      " [32 34 36 38]\n",
      " [40 42 44 46]]\n",
      "--------------------\n",
      "[[ 0.   0.5  1.   1.5]\n",
      " [ 2.   2.5  3.   3.5]\n",
      " [ 4.   4.5  5.   5.5]\n",
      " [ 6.   6.5  7.   7.5]\n",
      " [ 8.   8.5  9.   9.5]\n",
      " [10.  10.5 11.  11.5]]\n"
     ]
    }
   ],
   "source": [
    "t1 =np.arange(24).reshape((6,4)) \n",
    "print(t1+2)\n",
    "print(\"-\"*20)\n",
    "print(t1*2) \n",
    "print(\"-\"*20)\n",
    "print(t1/2)"
   ]
  },
  {
   "cell_type": "code",
   "execution_count": null,
   "id": "e99c31cb",
   "metadata": {},
   "outputs": [
    {
     "name": "stdout",
     "output_type": "stream",
     "text": [
      "[[100 102 104 106]\n",
      " [108 110 112 114]\n",
      " [116 118 120 122]\n",
      " [124 126 128 130]\n",
      " [132 134 136 138]\n",
      " [140 142 144 146]]\n",
      "[[-100 -100 -100 -100]\n",
      " [-100 -100 -100 -100]\n",
      " [-100 -100 -100 -100]\n",
      " [-100 -100 -100 -100]\n",
      " [-100 -100 -100 -100]\n",
      " [-100 -100 -100 -100]]\n"
     ]
    }
   ],
   "source": [
    "t1 = np.arange(24).reshape((6,4))\n",
    "t2 = np.arange(100,124).reshape((6,4))\n",
    "\n",
    "print(t1+t2) \n",
    "print('-'*50) \n",
    "print(t1-t2)"
   ]
  },
  {
   "cell_type": "code",
   "execution_count": null,
   "id": "2c21951b",
   "metadata": {},
   "outputs": [
    {
     "name": "stdout",
     "output_type": "stream",
     "text": [
      "[[ 0  1  2  3  4  5]\n",
      " [ 6  7  8  9 10 11]\n",
      " [12 13 14 15 16 17]\n",
      " [18 19 20 21 22 23]]\n",
      "--------------------------------------------------\n",
      "[[0 1 2 3 4 5]]\n",
      "--------------------------------------------------\n",
      "[[ 0  0  0  0  0  0]\n",
      " [ 6  6  6  6  6  6]\n",
      " [12 12 12 12 12 12]\n",
      " [18 18 18 18 18 18]]\n"
     ]
    }
   ],
   "source": [
    "#当尺寸不同时，要求其中一个轴的size为1\n",
    "t1 = np.arange(24).reshape((4,6)) \n",
    "t2 = np.arange(6).reshape((1,6)) \n",
    "print(t1)\n",
    "print('-'*50) \n",
    "print(t2) \n",
    "print('-'*50) \n",
    "print(t1-t2) "
   ]
  },
  {
   "cell_type": "code",
   "execution_count": 34,
   "id": "a1d433f2",
   "metadata": {},
   "outputs": [
    {
     "name": "stdout",
     "output_type": "stream",
     "text": [
      "[0 1 2 3 4 5]\n",
      "[[ 0  0  0  0  0  0]\n",
      " [ 6  6  6  6  6  6]\n",
      " [12 12 12 12 12 12]\n",
      " [18 18 18 18 18 18]]\n"
     ]
    }
   ],
   "source": [
    "\n",
    "t1 = np.arange(24).reshape((4,6)) \n",
    "t2 = np.arange(6)\n",
    "print(t2)\n",
    "print(t1-t2)"
   ]
  },
  {
   "cell_type": "code",
   "execution_count": 36,
   "id": "cd500870",
   "metadata": {},
   "outputs": [
    {
     "name": "stdout",
     "output_type": "stream",
     "text": [
      "[[ 0  1  2  3  4  5]\n",
      " [ 6  7  8  9 10 11]\n",
      " [12 13 14 15 16 17]\n",
      " [18 19 20 21 22 23]]\n",
      "--------------------------------------------------\n",
      "[[0]\n",
      " [1]\n",
      " [2]\n",
      " [3]]\n",
      "--------------------------------------------------\n",
      "[[ 0  1  2  3  4  5]\n",
      " [ 5  6  7  8  9 10]\n",
      " [10 11 12 13 14 15]\n",
      " [15 16 17 18 19 20]]\n"
     ]
    }
   ],
   "source": [
    "t1 = np.arange(24).reshape((4,6)) \n",
    "t2 = np.arange(4).reshape((4,1))\n",
    "print(t1)\n",
    "print('-'*50) \n",
    "print(t2) \n",
    "print('-'*50) \n",
    "print(t1-t2)"
   ]
  },
  {
   "cell_type": "code",
   "execution_count": null,
   "id": "b49327ad",
   "metadata": {},
   "outputs": [
    {
     "name": "stdout",
     "output_type": "stream",
     "text": [
      "[5 7 9]\n",
      "--------------------\n",
      "[ 6 15]\n",
      "--------------------\n",
      "21\n",
      "--------------------\n",
      "[[[ 0  1  2  3]\n",
      "  [ 4  5  6  7]\n",
      "  [ 8  9 10 11]]\n",
      "\n",
      " [[12 13 14 15]\n",
      "  [16 17 18 19]\n",
      "  [20 21 22 23]]]\n",
      "--------------------\n",
      "[[12 14 16 18]\n",
      " [20 22 24 26]\n",
      " [28 30 32 34]]\n",
      "(3, 4)\n",
      "--------------------\n",
      "[[12 15 18 21]\n",
      " [48 51 54 57]]\n",
      "(2, 4)\n",
      "--------------------\n",
      "[[ 6 22 38]\n",
      " [54 70 86]]\n",
      "(2, 3)\n"
     ]
    }
   ],
   "source": [
    "# 数组中轴，很重要\n",
    "#按什么轴运算，什么轴变化,非常重要\n",
    "a = np.array([[1,2,3],[4,5,6]]) #shape(2,3)\n",
    "print(np.sum(a,axis=0)) # [5 7 9]\n",
    "print(\"-\"*20)\n",
    "print(np.sum(a,axis = 1)) # [ 6 15]\n",
    "print(\"-\"*20)\n",
    "print(np.sum(a)) #整体求和\n",
    "print(\"-\"*20)\n",
    "a=np.arange(24).reshape((2,3,4))\n",
    "print(a)\n",
    "\n",
    "b=np.sum(a, axis=0)\n",
    "print(\"-\"*20)\n",
    "print(b)\n",
    "print(b.shape)\n",
    "c=np.sum(a, axis=1)\n",
    "print(\"-\"*20)\n",
    "print(c)\n",
    "print(c.shape)\n",
    "d=np.sum(a, axis=2)\n",
    "print(\"-\"*20)\n",
    "print(d)\n",
    "print(d.shape)"
   ]
  },
  {
   "cell_type": "markdown",
   "id": "e72b5fec",
   "metadata": {},
   "source": [
    "# 7 数组的索引与切片"
   ]
  },
  {
   "cell_type": "code",
   "id": "8340dfa3",
   "metadata": {
    "ExecuteTime": {
     "end_time": "2025-06-12T12:15:53.480511Z",
     "start_time": "2025-06-12T12:15:53.323230Z"
    }
   },
   "source": [
    "import numpy as np\n",
    "t1 = np.arange(24).reshape(4,6)\n",
    "print(t1)\n",
    "print('*'*20)\n",
    "print(t1[1]) # 取一行(一行代表是一条数据，索引也是从0开始的) print(t1[1,:]) # 取一行\n",
    "print('*'*20)\n",
    "print('取连续的多行\\n',t1[1:])\n",
    "print('*'*20)\n",
    "print('取连续的多行\\n',t1[1:3,:])\n",
    "print('*'*20)\n",
    "print('取不连续的多行\\n',t1[[0,2,3]])#\n",
    "print('*'*20)\n",
    "print('取不连续的多行\\n',t1[[0,2,3],:])\n",
    "print('*'*20)\n",
    "print('取一列\\n',t1[:,1])\n",
    "print('*'*20)\n",
    "print('连续的多列\\n',t1[:,1:])\n",
    "print('*'*20)\n",
    "print('取不连续的多列\\n',t1[:,[0,2,3]])\n",
    "print('*'*20)\n",
    "print('取某一个值,三行四列\\n',t1[2,3])\n",
    "print('*'*20)"
   ],
   "outputs": [
    {
     "name": "stdout",
     "output_type": "stream",
     "text": [
      "[[ 0  1  2  3  4  5]\n",
      " [ 6  7  8  9 10 11]\n",
      " [12 13 14 15 16 17]\n",
      " [18 19 20 21 22 23]]\n",
      "********************\n",
      "[ 6  7  8  9 10 11]\n",
      "********************\n",
      "取连续的多行\n",
      " [[ 6  7  8  9 10 11]\n",
      " [12 13 14 15 16 17]\n",
      " [18 19 20 21 22 23]]\n",
      "********************\n",
      "取连续的多行\n",
      " [[ 6  7  8  9 10 11]\n",
      " [12 13 14 15 16 17]]\n",
      "********************\n",
      "取不连续的多行\n",
      " [[ 0  1  2  3  4  5]\n",
      " [12 13 14 15 16 17]\n",
      " [18 19 20 21 22 23]]\n",
      "********************\n",
      "取不连续的多行\n",
      " [[ 0  1  2  3  4  5]\n",
      " [12 13 14 15 16 17]\n",
      " [18 19 20 21 22 23]]\n",
      "********************\n",
      "取一列\n",
      " [ 1  7 13 19]\n",
      "********************\n",
      "连续的多列\n",
      " [[ 1  2  3  4  5]\n",
      " [ 7  8  9 10 11]\n",
      " [13 14 15 16 17]\n",
      " [19 20 21 22 23]]\n",
      "********************\n",
      "取不连续的多列\n",
      " [[ 0  2  3]\n",
      " [ 6  8  9]\n",
      " [12 14 15]\n",
      " [18 20 21]]\n",
      "********************\n",
      "取某一个值,三行四列\n",
      " 15\n",
      "********************\n"
     ]
    }
   ],
   "execution_count": 1
  },
  {
   "cell_type": "code",
   "execution_count": null,
   "id": "efe64020",
   "metadata": {},
   "outputs": [
    {
     "data": {
      "text/plain": [
       "array([ 7, 16])"
      ]
     },
     "execution_count": 43,
     "metadata": {},
     "output_type": "execute_result"
    }
   ],
   "source": [
    "t1[[1,2],[1,4]] #1,1是7     2,4是16"
   ]
  },
  {
   "cell_type": "code",
   "execution_count": 44,
   "id": "695e9f16",
   "metadata": {},
   "outputs": [
    {
     "data": {
      "text/plain": [
       "array([[ 7,  8,  9, 10],\n",
       "       [13, 14, 15, 16]])"
      ]
     },
     "execution_count": 44,
     "metadata": {},
     "output_type": "execute_result"
    }
   ],
   "source": [
    "t1[1:3,1:5]"
   ]
  },
  {
   "cell_type": "markdown",
   "id": "423667cd",
   "metadata": {},
   "source": [
    "# 8 数组中的数值修改"
   ]
  },
  {
   "cell_type": "code",
   "execution_count": 47,
   "id": "95eac7d9",
   "metadata": {},
   "outputs": [
    {
     "data": {
      "text/plain": [
       "array([[ 0,  0,  2,  3,  4,  5],\n",
       "       [ 6,  7,  8,  0, 10, 11],\n",
       "       [12, 13, 14, 15, 16, 17],\n",
       "       [18, 19, 20, 21, 22, 23]])"
      ]
     },
     "execution_count": 47,
     "metadata": {},
     "output_type": "execute_result"
    }
   ],
   "source": [
    "t = np.arange( 24 ).reshape( 4, 6 )\n",
    "\n",
    "# # 修改某一行的值\n",
    "# t[1, :] = 0\n",
    "#\n",
    "# # 修改某一列的值\n",
    "# t[:, 1] = 0\n",
    "# #\n",
    "# # # 修改连续多行\n",
    "# t[1:3, :] = 0\n",
    "# #\n",
    "# # # 修改连续多列\n",
    "# t[:, 1:4] = 0\n",
    "#\n",
    "# # 修改多行多列，取第二行到第四行，第三列到第五列\n",
    "# t[1:4,2:5]=0\n",
    "#\n",
    "# # 修改多个不相邻的点\n",
    "t[[0,1],[1,3]]=0\n",
    "t\n"
   ]
  },
  {
   "cell_type": "code",
   "execution_count": 50,
   "id": "d91f3d6a",
   "metadata": {},
   "outputs": [
    {
     "data": {
      "text/plain": [
       "array([[ True,  True, False, False, False, False],\n",
       "       [False, False, False, False, False, False],\n",
       "       [False, False, False, False, False, False],\n",
       "       [False, False, False, False, False, False]])"
      ]
     },
     "execution_count": 50,
     "metadata": {},
     "output_type": "execute_result"
    }
   ],
   "source": [
    "t = np.arange( 24 ).reshape( 4, 6 )\n",
    "t<2"
   ]
  },
  {
   "cell_type": "code",
   "execution_count": null,
   "id": "366ec15e",
   "metadata": {},
   "outputs": [
    {
     "data": {
      "text/plain": [
       "array([[10, 10, 10, 10, 10, 10],\n",
       "       [10, 10, 10, 10, 10, 11],\n",
       "       [12, 13, 14, 15, 16, 17],\n",
       "       [18, 18, 18, 18, 18, 18]])"
      ]
     },
     "execution_count": 52,
     "metadata": {},
     "output_type": "execute_result"
    }
   ],
   "source": [
    "t = np.arange( 24 ).reshape( 4, 6 )\n",
    "# 可以根据条件修改，比如讲小于10的值改掉\n",
    "# t[t < 10] = 0\n",
    "# print(t)\n",
    "# 使用逻辑判断\n",
    "# np.logical_and   & # np.logical_or  |\n",
    "# np.logical_not      ~\n",
    "# t[(t > 2) & (t < 6)] = 0  # 与\n",
    "# t[(t < 2) | (t > 6)] = 0  # 或\n",
    "# t[~(t > 6)] = 0  # 非\n",
    "# # print(t)\n",
    "t=t.clip(10,18)\n",
    "# print(t)\n",
    "\n",
    "# # # 拓 展\n",
    "\n",
    "t"
   ]
  },
  {
   "cell_type": "code",
   "execution_count": 53,
   "id": "657cc015",
   "metadata": {},
   "outputs": [
    {
     "name": "stdout",
     "output_type": "stream",
     "text": [
      "[[False  True]\n",
      " [ True  True]\n",
      " [False  True]]\n"
     ]
    }
   ],
   "source": [
    "# # # 三目运算（ np.where(condition, x, y)满足条件(condition)，输出x，不满足输出y。)）\n",
    "score = np.array( [[80, 88], [82, 81], [75, 81]] )\n",
    "result = np.where( score > 80, True, False )\n",
    "print( result )"
   ]
  },
  {
   "cell_type": "markdown",
   "id": "ef55b76c",
   "metadata": {},
   "source": [
    "# 9 数组的添加、删除和去重"
   ]
  },
  {
   "cell_type": "code",
   "execution_count": 54,
   "id": "a8a063be",
   "metadata": {},
   "outputs": [
    {
     "name": "stdout",
     "output_type": "stream",
     "text": [
      "第一个数组：\n",
      "[[1 2 3]\n",
      " [4 5 6]]\n",
      "\n",
      "\n",
      " 向 数 组 添 加 元 素 ：\n",
      "[1 2 3 4 5 6 7 8 9]\n",
      "\n",
      "\n",
      "沿轴 0 添加元素：\n",
      "[[1 2 3]\n",
      " [4 5 6]\n",
      " [7 8 9]]\n",
      "\n",
      "\n",
      "沿轴 1 添加元素：\n",
      "[[1 2 3 5 5 5]\n",
      " [4 5 6 7 8 9]]\n"
     ]
    }
   ],
   "source": [
    "a = np.array([[1, 2, 3], [4, 5, 6]])\n",
    "\n",
    "print('第一个数组：')\n",
    "print(a)\n",
    "print('\\n')\n",
    "\n",
    "print(' 向 数 组 添 加 元 素 ：')\n",
    "print(np.append(a, [7, 8, 9]))\n",
    "print('\\n')\n",
    "\n",
    "print('沿轴 0 添加元素：')\n",
    "print(np.append(a, [[7, 8, 9]], axis=0))\n",
    "print('\\n')\n",
    "\n",
    "print('沿轴 1 添加元素：')\n",
    "print(np.append(a, [[5, 5, 5], [7, 8, 9]], axis=1))"
   ]
  },
  {
   "cell_type": "code",
   "execution_count": 55,
   "id": "9c0540df",
   "metadata": {},
   "outputs": [
    {
     "name": "stdout",
     "output_type": "stream",
     "text": [
      "第一个数组：\n",
      "[[1 2]\n",
      " [3 4]\n",
      " [5 6]]\n",
      "\n",
      "\n",
      "常见场景\n",
      "[[ 1  2]\n",
      " [11 12]\n",
      " [ 3  4]\n",
      " [ 5  6]]\n",
      "未传递 Axis 参数。 在插入之前输入数组会被展开。\n",
      "[ 1  2  3 11 12  4  5  6]\n",
      "\n",
      "\n",
      "传递了 Axis 参数。 会广播值数组来配输入数组。\n",
      "沿轴  0 广播：\n",
      "[[ 1  2]\n",
      " [11 11]\n",
      " [ 3  4]\n",
      " [ 5  6]]\n",
      "\n",
      "\n",
      "沿轴  1 广播：\n",
      "[[ 1 11  2]\n",
      " [ 3 11  4]\n",
      " [ 5 11  6]]\n"
     ]
    }
   ],
   "source": [
    "a = np.array([[1, 2], [3, 4], [5, 6]])\n",
    "\n",
    "print('第一个数组：')\n",
    "print(a)\n",
    "print('\\n')\n",
    "\n",
    "print('常见场景')\n",
    "print(np.insert(a, 1, [11, 12],axis=0))\n",
    "\n",
    "print('未传递 Axis 参数。 在插入之前输入数组会被展开。')\n",
    "print(np.insert(a, 3, [11, 12]))\n",
    "print('\\n')\n",
    "print('传递了 Axis 参数。 会广播值数组来配输入数组。')\n",
    "\n",
    "print('沿轴  0 广播：')\n",
    "print(np.insert(a, 1, [11], axis=0))\n",
    "print('\\n')\n",
    "\n",
    "print('沿轴  1 广播：')\n",
    "print(np.insert(a, 1, 11, axis=1))"
   ]
  },
  {
   "cell_type": "code",
   "execution_count": 56,
   "id": "3401678d",
   "metadata": {},
   "outputs": [
    {
     "name": "stdout",
     "output_type": "stream",
     "text": [
      "第一个数组：\n",
      "[[ 0  1  2  3]\n",
      " [ 4  5  6  7]\n",
      " [ 8  9 10 11]]\n",
      "\n",
      "\n",
      "未传递 Axis 参数。 在删除之前输入数组会被展开。\n",
      "[ 0  1  2  3  4  6  7  8  9 10 11]\n",
      "\n",
      "\n",
      "删除每一行中的第二列：\n",
      "[[ 0  2  3]\n",
      " [ 4  6  7]\n",
      " [ 8 10 11]]\n",
      "\n",
      "\n"
     ]
    }
   ],
   "source": [
    "#数组的删除\n",
    "a = np.arange(12).reshape(3,4)\n",
    "\n",
    "print('第一个数组：')\n",
    "print(a)\n",
    "print('\\n')\n",
    "\n",
    "print('未传递 Axis 参数。 在删除之前输入数组会被展开。')\n",
    "print(np.delete(a,5))\n",
    "print('\\n')\n",
    "\n",
    "print('删除每一行中的第二列：')\n",
    "print(np.delete(a,1,axis = 1))\n",
    "print('\\n')"
   ]
  },
  {
   "cell_type": "code",
   "execution_count": null,
   "id": "95641a82",
   "metadata": {},
   "outputs": [
    {
     "name": "stdout",
     "output_type": "stream",
     "text": [
      "第一个数组：\n",
      "[5 2 6 2 7 5 6 8 2 9]\n",
      "\n",
      "\n",
      "第一个数组的去重值：\n",
      "[2 5 6 7 8 9]\n",
      "\n",
      "\n",
      "去重数组的索引数组：\n",
      "[1 0 2 4 7 9]\n",
      "\n",
      "\n",
      "我们可以看到每个和原数组下标对应的数值：\n",
      "[5 2 6 2 7 5 6 8 2 9]\n",
      "去重数组的下标：\n",
      "[2 5 6 7 8 9]\n",
      "[1 0 2 0 3 1 2 4 0 5]\n",
      "\n",
      "\n",
      "返回去重元素的重复数量：\n",
      "[2 5 6 7 8 9]\n",
      "[3 2 2 1 1 1]\n"
     ]
    }
   ],
   "source": [
    "#去重\n",
    "a = np.array([5,2,6,2,7,5,6,8,2,9])\n",
    "\n",
    "print ('第一个数组：')\n",
    "print (a)\n",
    "print ('\\n')\n",
    "\n",
    "print ('第一个数组的去重值：')\n",
    "u = np.unique(a)\n",
    "print (u)\n",
    "print ('\\n')\n",
    "\n",
    "print ('去重数组的索引数组：往下的都不重要')\n",
    "u,indices = np.unique(a, return_index = True)\n",
    "print (indices)\n",
    "print ('\\n')\n",
    "\n",
    "print ('我们可以看到每个和原数组下标对应的数值：')\n",
    "print (a)\n",
    "print ('去重数组的下标：')\n",
    "u,indices = np.unique(a,return_inverse = True)\n",
    "print (u)\n",
    "print (indices)\n",
    "print ('\\n')\n",
    "\n",
    "print ('返回去重元素的重复数量：')\n",
    "u,indices = np.unique(a,return_counts = True)\n",
    "print (u)\n",
    "print (indices)"
   ]
  },
  {
   "cell_type": "markdown",
   "id": "70d494ea",
   "metadata": {},
   "source": [
    "# 10 numpy的数学计算"
   ]
  },
  {
   "cell_type": "code",
   "execution_count": 59,
   "id": "94354004",
   "metadata": {},
   "outputs": [
    {
     "name": "stdout",
     "output_type": "stream",
     "text": [
      "88\n",
      "[82 88]\n",
      "75\n",
      "[80 81 75]\n"
     ]
    }
   ],
   "source": [
    "score = np.array([[80,88],[82,81],[75,81]])\n",
    "# 1. 获取所有数据最大值\n",
    "result = np.max(score)\n",
    "print(result)\n",
    "# 2. 获取某一个轴上的数据最大值\n",
    "result = np.max(score,axis=0)\n",
    "print(result)\n",
    "# 3. 获取最小值\n",
    "result = np.min(score)\n",
    "print(result)\n",
    "# 4. 获取某一个轴上的数据最小值\n",
    "result = np.min(score,axis=1)\n",
    "print(result)\n"
   ]
  },
  {
   "cell_type": "code",
   "execution_count": 62,
   "id": "d3405506",
   "metadata": {
    "ExecuteTime": {
     "end_time": "2025-06-12T06:41:46.646774Z",
     "start_time": "2025-06-12T06:41:46.621048Z"
    }
   },
   "outputs": [
    {
     "name": "stdout",
     "output_type": "stream",
     "text": [
      "[0 0 0 1 2]\n",
      "[-2 -1  0  0  0]\n",
      "[-2  2  3  4  5]\n",
      "81.16666666666667\n",
      "[79.         83.33333333]\n",
      "[[1 2 3]\n",
      " [4 5 6]]\n",
      "[[1 2 3]\n",
      " [5 7 9]]\n",
      "[[ 1  3  6]\n",
      " [ 4  9 15]]\n"
     ]
    },
    {
     "data": {
      "text/plain": [
       "'\\n[1, 2, 3]------>   |1 |2+1   |3+2+1 |\\n[4, 5, 6]------>   |4 |4+5   |4+5+6 |\\n'"
      ]
     },
     "execution_count": 62,
     "metadata": {},
     "output_type": "execute_result"
    }
   ],
   "source": [
    "# 5. 数据的比较\n",
    "result = np.maximum( [-2, -1, 0, 1, 2], 0 )  # 第一个参数中的每一个数与第二个参数比较返回大的\n",
    "print(result)\n",
    "result = np.minimum( [-2, -1, 0, 1, 2], 0 )  # 第一个参数中的每一个数与第二个参数比较返回小的\n",
    "print(result)\n",
    "result = np.maximum( [-2, -1, 0, 1, 2], [-10, 2, 3, 4, 5] )\n",
    "print(result)\n",
    "# 接受的两个参数，也可以大小一致;第二个参数只是一个单独的值时，其实是用到了维度的广播机制；\n",
    "\n",
    "# 6. 求平均值\n",
    "result = np.mean(score) # 获取所有数据的平均值\n",
    "print(result)\n",
    "result = np.mean(score,axis=0) # 获取某一行或者某一列的平均值\n",
    "print(result)\n",
    "# 7. 求前缀和\n",
    "arr    = np.array([[1,2,3], [4,5,6]])\n",
    "print(arr)\n",
    "print(arr.cumsum(axis=0))\n",
    "'''\n",
    "[1, 2, 3]------>   |1 |2 |3 |\n",
    "[4, 5, 6]------>   |5=1+4 |7=2+5 |9=3+6|\n",
    "'''\n",
    "print(arr.cumsum(1))\n",
    "'''\n",
    "[1, 2, 3]------>   |1 |2+1   |3+2+1 |\n",
    "[4, 5, 6]------>   |4 |4+5   |4+5+6 |\n",
    "'''\n",
    "\n"
   ]
  },
  {
   "cell_type": "code",
   "execution_count": 64,
   "id": "dbc01105",
   "metadata": {},
   "outputs": [
    {
     "data": {
      "text/plain": [
       "array([[80, 88],\n",
       "       [82, 81],\n",
       "       [75, 81]])"
      ]
     },
     "execution_count": 64,
     "metadata": {},
     "output_type": "execute_result"
    }
   ],
   "source": [
    "score"
   ]
  },
  {
   "cell_type": "code",
   "execution_count": 63,
   "id": "2b569db3",
   "metadata": {},
   "outputs": [
    {
     "name": "stdout",
     "output_type": "stream",
     "text": [
      "[2 1] [75 81]\n",
      "[2.94392029 3.29983165]\n",
      "13\n"
     ]
    }
   ],
   "source": [
    "# 8. argmin求最小值索引\n",
    "result = np.argmin(score,axis=0)\n",
    "res=np.min(score,axis=0) #这样我们就可以知道最小的81是第二排的，是从前往后遍历的\n",
    "print(result,res)\n",
    "\n",
    "# 9. 求每一列的标准差（这里是总体标准差）\n",
    "# 标准差是一组数据平均值分散程度的一种度量。一个较大的标准差，代表大部分数值和其平均值之间差异较大；\n",
    "# 一个较小的标准差，代表这些数据较接近平均值反应出数据的波动稳定情况，越大表示波动越大，越不稳定。\n",
    "result = np.std(score,axis=0)\n",
    "print(result)\n",
    "\n",
    "# 10. 极 值\n",
    "result = np.ptp(score,axis=None)#就是最大值和最小值的差\n",
    "print(result)"
   ]
  },
  {
   "cell_type": "markdown",
   "id": "3057fc08",
   "metadata": {},
   "source": [
    "# 11 拼接与分割"
   ]
  },
  {
   "cell_type": "code",
   "id": "e2d9567b",
   "metadata": {
    "ExecuteTime": {
     "end_time": "2025-06-12T06:51:50.921499Z",
     "start_time": "2025-06-12T06:51:50.917485Z"
    }
   },
   "source": [
    "import numpy as np\n",
    "# 按轴连接 concatenate\n",
    "arr = np.arange(12).reshape(4,3)\n",
    "print('原始数组：\\n',arr)\n",
    "\n",
    "# 按纵轴连接\n",
    "print('按纵轴连接：\\n',np.concatenate((arr, [[9, 9, 6], [0, 0, 7]] ), axis=0))\n",
    "\n",
    "print('按横轴连接：\\n',np.concatenate((arr, [[8],[8],[8],[8]] ), axis=1))"
   ],
   "outputs": [
    {
     "name": "stdout",
     "output_type": "stream",
     "text": [
      "[[1 2]\n",
      " [3 4]\n",
      " [5 6]\n",
      " [7 8]]\n",
      "\n",
      "\n",
      "沿轴 1 连接两个数组：\n",
      "[[1 2 5 6]\n",
      " [3 4 7 8]]\n"
     ]
    }
   ],
   "execution_count": 7
  },
  {
   "cell_type": "code",
   "id": "a8a09b57",
   "metadata": {
    "ExecuteTime": {
     "end_time": "2025-06-12T06:54:24.476556Z",
     "start_time": "2025-06-12T06:54:24.473003Z"
    }
   },
   "source": [
    "# 按轴堆叠\n",
    "a = np.array([[1,2],[3,4]])\n",
    "b = np.array([[5,6],[7,8]])\n",
    "\n",
    "print('按纵轴堆叠：\\n', np.stack((a,b) ,axis=0 ))     # 把把数组b作为整体，堆叠到数组a的纵轴上，升维\n",
    "\n",
    "print('按横轴堆叠：\\n', np.stack((a,b) ,axis=1 ))     # 把a数组的 [1,2] 和 b数组的 [5,6] 堆叠到一起，作为一个整体，升维"
   ],
   "outputs": [
    {
     "name": "stdout",
     "output_type": "stream",
     "text": [
      "沿轴 0 连接两个数组：\n",
      "(3, 2, 2)\n",
      "[[[ 1  2]\n",
      "  [ 3  4]]\n",
      "\n",
      " [[ 5  6]\n",
      "  [ 7  8]]\n",
      "\n",
      " [[ 9 10]\n",
      "  [11 12]]]\n",
      "\n",
      "\n",
      "沿轴 1 连接两个数组：\n",
      "(2, 3, 2)\n",
      "[[[ 1  2]\n",
      "  [ 5  6]\n",
      "  [ 9 10]]\n",
      "\n",
      " [[ 3  4]\n",
      "  [ 7  8]\n",
      "  [11 12]]]\n"
     ]
    }
   ],
   "execution_count": 11
  },
  {
   "metadata": {
    "ExecuteTime": {
     "end_time": "2025-06-12T06:58:41.779996Z",
     "start_time": "2025-06-12T06:58:41.774338Z"
    }
   },
   "cell_type": "code",
   "source": [
    "arr = np.arange(12).reshape(3,4)\n",
    "print('原始数组：\\n',arr)\n",
    "\n",
    "# 将数组三等分，默认按纵轴分\n",
    "print('纵轴等分后的数组：\\n', np.split(arr,3))\n",
    "\n",
    "# 设置切割点，先按第一行切割，再按第一列切割\n",
    "# print('纵轴切割后的数组：\\n', np.split(arr,[1,1]))\n",
    "\n",
    "# 将数组按横轴等分\n",
    "print('横轴等分后的数组：\\n', np.split(arr,4,axis=1))"
   ],
   "id": "f6e64a6b9b6ffa6d",
   "outputs": [
    {
     "name": "stdout",
     "output_type": "stream",
     "text": [
      "将数组分为三个大小相等的子数组：\n",
      "[array([[0, 1, 2, 3]]), array([[4, 5, 6, 7]]), array([[ 8,  9, 10, 11]])]\n",
      "原array：\n",
      "[[1. 7. 2. 6. 8. 7.]\n",
      " [3. 8. 4. 8. 1. 0.]]\n",
      "拆分后：\n",
      "[array([[1., 7.],\n",
      "       [3., 8.]]), array([[2., 6.],\n",
      "       [4., 8.]]), array([[8., 7.],\n",
      "       [1., 0.]])]\n",
      "第一个数组：\n",
      "[[ 0  1  2  3]\n",
      " [ 4  5  6  7]\n",
      " [ 8  9 10 11]\n",
      " [12 13 14 15]]\n",
      "\n",
      "\n",
      "竖直分割：\n",
      "[array([[0, 1, 2, 3],\n",
      "       [4, 5, 6, 7]]), array([[ 8,  9, 10, 11],\n",
      "       [12, 13, 14, 15]])]\n"
     ]
    }
   ],
   "execution_count": 13
  },
  {
   "metadata": {
    "ExecuteTime": {
     "end_time": "2025-06-12T06:59:29.792819Z",
     "start_time": "2025-06-12T06:59:29.789750Z"
    }
   },
   "cell_type": "code",
   "source": "np.arange(4).reshape(4,1)",
   "id": "81a241a3429ae8a4",
   "outputs": [
    {
     "data": {
      "text/plain": [
       "array([[0],\n",
       "       [1],\n",
       "       [2],\n",
       "       [3]])"
      ]
     },
     "execution_count": 16,
     "metadata": {},
     "output_type": "execute_result"
    }
   ],
   "execution_count": 16
  },
  {
   "metadata": {},
   "cell_type": "markdown",
   "source": "# 12 数组中nan和inf",
   "id": "34bc1618d372d68"
  },
  {
   "metadata": {
    "ExecuteTime": {
     "end_time": "2025-06-12T07:05:09.254858Z",
     "start_time": "2025-06-12T07:05:09.251321Z"
    }
   },
   "cell_type": "code",
   "source": [
    "# 创建一个nan和inf #\n",
    "a = np.nan\n",
    "b = np.inf\n",
    "print(a,type(a))\n",
    "print(b,type(b))\n",
    "\n",
    "# --判断数组中为nan的个数\n",
    "t = np.arange(24,dtype=float).reshape(4,6)\n",
    "\n",
    "# 将三行四列的数改成nan\n",
    "t[3,4] = np.nan\n",
    "print(t)\n",
    "# 可以使用np.count_nonzero() 来判断非零的个数\n",
    "print(np.count_nonzero(t))\n",
    "print(t!=t)\n",
    "# 并 且  np.nan != np.nan    结果 是TRUE\n",
    "# 所以我们可以使用这两个结合使用判断nan的个数\n",
    "print(np.count_nonzero(t != t))"
   ],
   "id": "18d08c4e209a972c",
   "outputs": [
    {
     "name": "stdout",
     "output_type": "stream",
     "text": [
      "nan <class 'float'>\n",
      "inf <class 'float'>\n",
      "[[ 0.  1.  2.  3.  4.  5.]\n",
      " [ 6.  7.  8.  9. 10. 11.]\n",
      " [12. 13. 14. 15. 16. 17.]\n",
      " [18. 19. 20. 21. nan 23.]]\n",
      "23\n",
      "[[False False False False False False]\n",
      " [False False False False False False]\n",
      " [False False False False False False]\n",
      " [False False False False  True False]]\n",
      "1\n"
     ]
    }
   ],
   "execution_count": 19
  },
  {
   "metadata": {
    "ExecuteTime": {
     "end_time": "2025-06-12T07:05:53.046808Z",
     "start_time": "2025-06-12T07:05:53.043222Z"
    }
   },
   "cell_type": "code",
   "source": [
    "# 将nan替换为0\n",
    "t[np.isnan(t)] = 0\n",
    "print(t)"
   ],
   "id": "29e92f755ac14ee6",
   "outputs": [
    {
     "name": "stdout",
     "output_type": "stream",
     "text": [
      "[[ 0.  1.  2.  3.  4.  5.]\n",
      " [ 6.  7.  8.  9. 10. 11.]\n",
      " [12. 13. 14. 15. 16. 17.]\n",
      " [18. 19. 20. 21.  0. 23.]]\n"
     ]
    }
   ],
   "execution_count": 20
  },
  {
   "metadata": {
    "ExecuteTime": {
     "end_time": "2025-06-12T07:06:11.464118Z",
     "start_time": "2025-06-12T07:06:11.458962Z"
    }
   },
   "cell_type": "code",
   "source": [
    "# ----------练习： 处理数组中nan\n",
    "t = np.arange(24).reshape(4,6).astype('float')\n",
    "#\n",
    "# 将数组中的一部分替换nan\n",
    "t[1,3:] = np.nan\n",
    "print(t)\n",
    "print('-------------------')"
   ],
   "id": "b47d11335887b1ca",
   "outputs": [
    {
     "name": "stdout",
     "output_type": "stream",
     "text": [
      "[[ 0.  1.  2.  3.  4.  5.]\n",
      " [ 6.  7.  8. nan nan nan]\n",
      " [12. 13. 14. 15. 16. 17.]\n",
      " [18. 19. 20. 21. 22. 23.]]\n",
      "-------------------\n"
     ]
    }
   ],
   "execution_count": 21
  },
  {
   "metadata": {
    "ExecuteTime": {
     "end_time": "2025-06-12T07:08:53.318222Z",
     "start_time": "2025-06-12T07:08:53.315186Z"
    }
   },
   "cell_type": "code",
   "source": "t.shape[1]",
   "id": "fa8abbe2075fdf34",
   "outputs": [
    {
     "data": {
      "text/plain": [
       "6"
      ]
     },
     "execution_count": 23,
     "metadata": {},
     "output_type": "execute_result"
    }
   ],
   "execution_count": 23
  },
  {
   "metadata": {
    "ExecuteTime": {
     "end_time": "2025-06-12T07:11:59.323312Z",
     "start_time": "2025-06-12T07:10:36.359164Z"
    }
   },
   "cell_type": "code",
   "source": [
    "# 遍历每一列，然后判断每一列是否有nan\n",
    "for i in range(t.shape[1]):\n",
    "   #获取当前列数据\n",
    "   temp_col = t[:,i]\n",
    "\n",
    "   # 判断当前列的数据中是否含有nan\n",
    "   nan_num = np.count_nonzero(temp_col != temp_col)\n",
    "   # 条件成立说明含有nan\n",
    "   if nan_num != 0:\n",
    "      # 将这一列不为nan的数据拿出来\n",
    "      temp_col_not_nan = temp_col[temp_col == temp_col]\n",
    "      \n",
    "      # 将nan替换成这一列的平均值\n",
    "      temp_col[np.isnan( temp_col )] = np.mean( temp_col_not_nan )\n",
    "      \n",
    "print(t)"
   ],
   "id": "68199ff48bf2f6b6",
   "outputs": [
    {
     "name": "stdout",
     "output_type": "stream",
     "text": [
      "[[ 0.  1.  2.  3.  4.  5.]\n",
      " [ 6.  7.  8. 13. 14. 15.]\n",
      " [12. 13. 14. 15. 16. 17.]\n",
      " [18. 19. 20. 21. 22. 23.]]\n"
     ]
    }
   ],
   "execution_count": 24
  },
  {
   "metadata": {},
   "cell_type": "markdown",
   "source": "# 13  二维数组的转置，轴滚动",
   "id": "ec4d9d1665a2f1c4"
  },
  {
   "metadata": {
    "ExecuteTime": {
     "end_time": "2025-06-12T07:13:29.402714Z",
     "start_time": "2025-06-12T07:13:29.399050Z"
    }
   },
   "cell_type": "code",
   "source": [
    "a = np.arange(12).reshape(3,4)\n",
    "print ('原数组：')\n",
    "print (a )\n",
    "print ('\\n')\n",
    "\n",
    "print ('对换数组：')\n",
    "print (np.transpose(a))\n",
    "\n",
    "# 与transpose一致\n",
    "a = np.arange(12).reshape(3,4)\n",
    "\n",
    "print ('原数组：')\n",
    "print (a)\n",
    "print ('\\n')\n",
    "\n",
    "print ('转置数组：')\n",
    "print (a.T)\n",
    "\n",
    "# 函数用于交换数组的两个轴\n",
    "t1 = np.arange(24).reshape(4,6)\n",
    "re = t1.swapaxes(1,0)\n",
    "print (' 原 数 组 ：')\n",
    "print (t1)\n",
    "print ('\\n')\n",
    "\n",
    "print ('调用 swapaxes 函数后的数组：')\n",
    "print (re)"
   ],
   "id": "cf3cfaf196da5c7f",
   "outputs": [
    {
     "name": "stdout",
     "output_type": "stream",
     "text": [
      "原数组：\n",
      "[[ 0  1  2  3]\n",
      " [ 4  5  6  7]\n",
      " [ 8  9 10 11]]\n",
      "\n",
      "\n",
      "对换数组：\n",
      "[[ 0  4  8]\n",
      " [ 1  5  9]\n",
      " [ 2  6 10]\n",
      " [ 3  7 11]]\n",
      "原数组：\n",
      "[[ 0  1  2  3]\n",
      " [ 4  5  6  7]\n",
      " [ 8  9 10 11]]\n",
      "\n",
      "\n",
      "转置数组：\n",
      "[[ 0  4  8]\n",
      " [ 1  5  9]\n",
      " [ 2  6 10]\n",
      " [ 3  7 11]]\n",
      " 原 数 组 ：\n",
      "[[ 0  1  2  3  4  5]\n",
      " [ 6  7  8  9 10 11]\n",
      " [12 13 14 15 16 17]\n",
      " [18 19 20 21 22 23]]\n",
      "\n",
      "\n",
      "调用 swapaxes 函数后的数组：\n",
      "[[ 0  6 12 18]\n",
      " [ 1  7 13 19]\n",
      " [ 2  8 14 20]\n",
      " [ 3  9 15 21]\n",
      " [ 4 10 16 22]\n",
      " [ 5 11 17 23]]\n"
     ]
    }
   ],
   "execution_count": 25
  },
  {
   "metadata": {
    "ExecuteTime": {
     "end_time": "2025-06-12T07:17:32.790110Z",
     "start_time": "2025-06-12T07:17:32.787106Z"
    }
   },
   "cell_type": "code",
   "source": [
    "t=np.ones((2,3,4,5))\n",
    "np.rollaxis(t,3,1).shape"
   ],
   "id": "9cec7b3813d65729",
   "outputs": [
    {
     "data": {
      "text/plain": [
       "(2, 5, 3, 4)"
      ]
     },
     "execution_count": 28,
     "metadata": {},
     "output_type": "execute_result"
    }
   ],
   "execution_count": 28
  }
 ],
 "metadata": {
  "kernelspec": {
   "display_name": "Python 3",
   "language": "python",
   "name": "python3"
  },
  "language_info": {
   "codemirror_mode": {
    "name": "ipython",
    "version": 3
   },
   "file_extension": ".py",
   "mimetype": "text/x-python",
   "name": "python",
   "nbconvert_exporter": "python",
   "pygments_lexer": "ipython3",
   "version": "3.12.3"
  }
 },
 "nbformat": 4,
 "nbformat_minor": 5
}
