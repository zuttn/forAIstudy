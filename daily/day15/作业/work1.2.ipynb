{
 "cells": [
  {
   "metadata": {
    "ExecuteTime": {
     "end_time": "2025-06-12T13:21:42.451714Z",
     "start_time": "2025-06-12T13:21:42.338891Z"
    }
   },
   "cell_type": "code",
   "source": "import numpy as np",
   "id": "68e8cabfe92f816",
   "outputs": [],
   "execution_count": 1
  },
  {
   "metadata": {},
   "cell_type": "markdown",
   "source": "# 数组的连接、分割、堆叠与去重",
   "id": "24506a3b269c5b20"
  },
  {
   "metadata": {},
   "cell_type": "raw",
   "source": [
    "# 按轴连接 concatenate( arr , 需要连接的数组 , 轴)\n",
    "1、连接不会改变数组形状\n",
    "2、两个数组的连接轴必须能拼起来\n",
    "\n",
    "# 按轴堆叠 stack(arr , 需要堆叠的数组 , 轴)\n",
    "1、堆叠会改变数组形状，堆叠后子数组的形状保持和原来一样\n",
    "2、两个数组的维度必须完全相同才能堆叠\n",
    "\n",
    "# 按轴分割 split(arr , 分割点索引or份数 , 轴)\n",
    "1、split，默认按纵轴进行分割\n",
    "2、切割点索引：[row,col] 在几行几列切割\n",
    "\n",
    "# 去重unique"
   ],
   "id": "ebe3fe09ed36e5c5"
  },
  {
   "metadata": {
    "ExecuteTime": {
     "end_time": "2025-06-12T13:27:55.761812Z",
     "start_time": "2025-06-12T13:27:55.757141Z"
    }
   },
   "cell_type": "code",
   "source": [
    "# 按轴连接 concatenate\n",
    "arr = np.arange(12).reshape(4,3)\n",
    "print('原始数组：\\n',arr)\n",
    "\n",
    "# 按纵轴连接\n",
    "print('按纵轴连接：\\n',np.concatenate((arr, [[9, 9, 6], [0, 0, 7]] ), axis=0))\n",
    "\n",
    "print('按横轴连接：\\n',np.concatenate((arr, [[8],[8],[8],[8]] ), axis=1))"
   ],
   "id": "d57989f483fef262",
   "outputs": [
    {
     "name": "stdout",
     "output_type": "stream",
     "text": [
      "原始数组：\n",
      " [[ 0  1  2]\n",
      " [ 3  4  5]\n",
      " [ 6  7  8]\n",
      " [ 9 10 11]]\n",
      "按纵轴连接：\n",
      " [[ 0  1  2]\n",
      " [ 3  4  5]\n",
      " [ 6  7  8]\n",
      " [ 9 10 11]\n",
      " [ 9  9  6]\n",
      " [ 0  0  7]]\n",
      "按横轴连接：\n",
      " [[ 0  1  2  8]\n",
      " [ 3  4  5  8]\n",
      " [ 6  7  8  8]\n",
      " [ 9 10 11  8]]\n"
     ]
    }
   ],
   "execution_count": 8
  },
  {
   "metadata": {
    "ExecuteTime": {
     "end_time": "2025-06-12T13:37:45.684440Z",
     "start_time": "2025-06-12T13:37:45.679165Z"
    }
   },
   "cell_type": "code",
   "source": [
    "# 按轴堆叠\n",
    "a = np.array([[1,2],[3,4]])\n",
    "b = np.array([[5,6],[7,8]])\n",
    "\n",
    "print('按纵轴堆叠：\\n', np.stack((a,b) ,axis=0 ))     # 把把数组b作为整体，堆叠到数组a的纵轴上，升维\n",
    "\n",
    "print('按横轴堆叠：\\n', np.stack((a,b) ,axis=1 ))     # 把a数组的 [1,2] 和 b数组的 [5,6] 堆叠到一起，作为一个整体，升维"
   ],
   "id": "bed36423a173206c",
   "outputs": [
    {
     "name": "stdout",
     "output_type": "stream",
     "text": [
      "按纵轴堆叠：\n",
      " [[[1 2]\n",
      "  [3 4]]\n",
      "\n",
      " [[5 6]\n",
      "  [7 8]]]\n",
      "按横轴堆叠：\n",
      " [[[1 2]\n",
      "  [5 6]]\n",
      "\n",
      " [[3 4]\n",
      "  [7 8]]]\n"
     ]
    }
   ],
   "execution_count": 12
  },
  {
   "metadata": {
    "ExecuteTime": {
     "end_time": "2025-06-12T13:47:08.375531Z",
     "start_time": "2025-06-12T13:47:08.371197Z"
    }
   },
   "cell_type": "code",
   "source": [
    "arr = np.arange(12).reshape(3,4)\n",
    "print('原始数组：\\n',arr)\n",
    "\n",
    "# 将数组三等分，默认按纵轴分\n",
    "print('纵轴等分后的数组：\\n', np.split(arr,3))\n",
    "\n",
    "# 设置切割点，先按第一行切割，再按第一列切割\n",
    "# print('纵轴切割后的数组：\\n', np.split(arr,[1,1]))\n",
    "\n",
    "# 将数组按横轴等分\n",
    "print('横轴等分后的数组：\\n', np.split(arr,4,axis=1))\n"
   ],
   "id": "10d4e5b755b8e032",
   "outputs": [
    {
     "name": "stdout",
     "output_type": "stream",
     "text": [
      "原始数组：\n",
      " [[ 0  1  2  3]\n",
      " [ 4  5  6  7]\n",
      " [ 8  9 10 11]]\n",
      "纵轴等分后的数组：\n",
      " [array([[0, 1, 2, 3]]), array([[4, 5, 6, 7]]), array([[ 8,  9, 10, 11]])]\n",
      "纵轴切割后的数组：\n",
      " [array([[0, 1, 2, 3]]), array([], shape=(0, 4), dtype=int32), array([[ 4,  5,  6,  7],\n",
      "       [ 8,  9, 10, 11]])]\n",
      "横轴等分后的数组：\n",
      " [array([[0],\n",
      "       [4],\n",
      "       [8]]), array([[1],\n",
      "       [5],\n",
      "       [9]]), array([[ 2],\n",
      "       [ 6],\n",
      "       [10]]), array([[ 3],\n",
      "       [ 7],\n",
      "       [11]])]\n"
     ]
    }
   ],
   "execution_count": 21
  },
  {
   "metadata": {},
   "cell_type": "code",
   "outputs": [],
   "execution_count": null,
   "source": "",
   "id": "40ca4ec67e57bbd1"
  }
 ],
 "metadata": {
  "kernelspec": {
   "display_name": "Python 3",
   "language": "python",
   "name": "python3"
  },
  "language_info": {
   "codemirror_mode": {
    "name": "ipython",
    "version": 2
   },
   "file_extension": ".py",
   "mimetype": "text/x-python",
   "name": "python",
   "nbconvert_exporter": "python",
   "pygments_lexer": "ipython2",
   "version": "2.7.6"
  }
 },
 "nbformat": 4,
 "nbformat_minor": 5
}
