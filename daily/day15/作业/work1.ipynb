{
 "cells": [
  {
   "metadata": {
    "ExecuteTime": {
     "end_time": "2025-06-12T09:33:43.754116Z",
     "start_time": "2025-06-12T09:33:43.750229Z"
    }
   },
   "cell_type": "code",
   "source": "import numpy as np",
   "id": "aef016ad2ab489d8",
   "outputs": [],
   "execution_count": 4
  },
  {
   "metadata": {},
   "cell_type": "markdown",
   "source": "# 创建 ndarray 对象（数组）",
   "id": "96837b4277931d68"
  },
  {
   "metadata": {
    "ExecuteTime": {
     "end_time": "2025-06-12T09:34:09.128061Z",
     "start_time": "2025-06-12T09:34:09.121626Z"
    }
   },
   "cell_type": "code",
   "source": [
    "arr = np.array( range(10) )\n",
    "# arr = np.array([1,2,3,4,5,6,7])\n",
    "arr"
   ],
   "id": "33d1686b130d9622",
   "outputs": [
    {
     "data": {
      "text/plain": [
       "array([0, 1, 2, 3, 4, 5, 6, 7, 8, 9])"
      ]
     },
     "execution_count": 8,
     "metadata": {},
     "output_type": "execute_result"
    }
   ],
   "execution_count": 8
  },
  {
   "metadata": {
    "ExecuteTime": {
     "end_time": "2025-06-12T09:35:32.156570Z",
     "start_time": "2025-06-12T09:35:32.152547Z"
    }
   },
   "cell_type": "code",
   "source": [
    "arr = np.arange( 0, 10 , 2)\n",
    "# 从 0 到 10 左闭右开 间隔为 2 \n",
    "arr"
   ],
   "id": "8525ab78ae17ea99",
   "outputs": [
    {
     "data": {
      "text/plain": [
       "array([0, 1, 2, 3, 4, 5, 6, 7, 8, 9])"
      ]
     },
     "execution_count": 10,
     "metadata": {},
     "output_type": "execute_result"
    }
   ],
   "execution_count": 10
  },
  {
   "metadata": {},
   "cell_type": "markdown",
   "source": "##  高维数组",
   "id": "c24d3e231f85e76b"
  },
  {
   "metadata": {
    "ExecuteTime": {
     "end_time": "2025-06-12T09:44:05.099266Z",
     "start_time": "2025-06-12T09:44:05.094720Z"
    }
   },
   "cell_type": "code",
   "source": [
    "# 1、直接构造列表 ， 再array\n",
    "list = [ [1,2] , [3,4] , [5,6] ]\n",
    "arr = np.array( list )\n",
    "print(arr)\n",
    "print(\"*\" * 60) \n",
    "\n",
    "# 2、先一维 再向高维 reshape\n",
    "arr1 = np.arange(24).reshape(2,6,2)   # 2张 6行2列 的切片\n",
    "print(arr1)"
   ],
   "id": "20c9e86d2d72e341",
   "outputs": [
    {
     "name": "stdout",
     "output_type": "stream",
     "text": [
      "[[1 2]\n",
      " [3 4]\n",
      " [5 6]]\n",
      "************************************************************\n",
      "[[[ 0  1]\n",
      "  [ 2  3]\n",
      "  [ 4  5]\n",
      "  [ 6  7]\n",
      "  [ 8  9]\n",
      "  [10 11]]\n",
      "\n",
      " [[12 13]\n",
      "  [14 15]\n",
      "  [16 17]\n",
      "  [18 19]\n",
      "  [20 21]\n",
      "  [22 23]]]\n"
     ]
    }
   ],
   "execution_count": 17
  },
  {
   "metadata": {},
   "cell_type": "markdown",
   "source": [
    "# 属性  \n",
    "shape-形状元组 &emsp;  reshape-改变形状  &emsp;  size-元素数  &emsp;  ndim-维数<br>\n",
    "***reshape(1,6) ， 两个参数 ， 是一行六列的二维数组 ， 而不是一维数组***"
   ],
   "id": "9de25530d0c7cb24"
  },
  {
   "metadata": {},
   "cell_type": "raw",
   "source": [
    "# reshape\n",
    "# 升维\n",
    "arr1 = np.arange(24).reshape(2,6,2)\n",
    "# 降维\n",
    "arr2 = arr1.reshape(4,6)    # 二维\n",
    "arr3 = arr1.reshape(24,)    # 一维\n",
    "arr4 = arr1.reshape(-1,24)   # -1：自动计算，当列=24时，-1 会使行数=1\n",
    "print(arr1.shape , arr2.shape , arr3.shape , arr4.shape)\n",
    "\n",
    "\n",
    "\n",
    "# 展平 <--> 铺开 : 原数组数字位置不变\n",
    "print(arr1)\n",
    "print('*'*60)\n",
    "print(arr3.reshape(2, 6, 2))\n"
   ],
   "id": "8e5e5d8dd108bfbc"
  },
  {
   "metadata": {},
   "cell_type": "markdown",
   "source": [
    "# 数据类型    \n",
    "dtype-设置数据类型  &emsp;  itemsize-元素字节大小  &emsp;  round-构造保留小数的数组<br>\n",
    "* 不需要在创建时，设置数据类型的方法 ： arr.astype( 数据类型 )"
   ],
   "id": "1f1b3133d8c0c698"
  },
  {
   "metadata": {
    "ExecuteTime": {
     "end_time": "2025-06-12T13:01:57.405701Z",
     "start_time": "2025-06-12T13:01:57.400997Z"
    }
   },
   "cell_type": "code",
   "source": [
    "arr = np.array([1,2,3,4,5],dtype=np.int8)\n",
    "print(arr.itemsize)\n",
    "print(arr.astype(np.float16).itemsize)\n",
    "\n",
    "import random\n",
    "arr = np.array([random.random() for _ in range(10)])\n",
    "arr1 = np.round(arr,2)\n",
    "print(arr1)"
   ],
   "id": "6a3711f86720d712",
   "outputs": [
    {
     "name": "stdout",
     "output_type": "stream",
     "text": [
      "1\n",
      "2\n",
      "[0.56 0.28 0.99 0.17 0.5  0.92 0.37 0.26 0.11 0.53]\n"
     ]
    }
   ],
   "execution_count": 129
  },
  {
   "metadata": {},
   "cell_type": "markdown",
   "source": "# 数组运算",
   "id": "8050496c3805d122"
  },
  {
   "metadata": {
    "ExecuteTime": {
     "end_time": "2025-06-12T11:06:00.883452Z",
     "start_time": "2025-06-12T11:06:00.879183Z"
    }
   },
   "cell_type": "code",
   "source": [
    "# 相同形状的数组计算\n",
    "arr1 = np.arange(12).reshape(2,6)\n",
    "arr2 = np.arange(12,24).reshape(2,6)\n",
    "print(arr1)\n",
    "print(arr2)\n",
    "print(arr1 + arr2)"
   ],
   "id": "adab2cd6a860053",
   "outputs": [
    {
     "name": "stdout",
     "output_type": "stream",
     "text": [
      "[[ 0  1  2  3  4  5]\n",
      " [ 6  7  8  9 10 11]]\n",
      "[[12 13 14 15 16 17]\n",
      " [18 19 20 21 22 23]]\n",
      "[[12 14 16 18 20 22]\n",
      " [24 26 28 30 32 34]]\n"
     ]
    }
   ],
   "execution_count": 42
  },
  {
   "metadata": {
    "ExecuteTime": {
     "end_time": "2025-06-12T11:16:15.062451Z",
     "start_time": "2025-06-12T11:16:15.057458Z"
    }
   },
   "cell_type": "code",
   "source": [
    "# 不同形状多维数组 --- 只能是数组+某一维向量\n",
    "arr1 = np.arange(24).reshape(2,6,2)\n",
    "\n",
    "arr2 = np.arange(2).reshape(2,1,1)\n",
    "# np.arange(2).reshape(1,1,2)\n",
    "# np.arange(6).reshape(1,1,6)\n",
    "# np.arange(6).reshape(1,6,1)\n",
    "\n",
    "print(arr1)\n",
    "print(arr2)\n",
    "print('*'*60)\n",
    "print(arr1 + arr2)\n",
    "# print(arr1+arr3)   Error!"
   ],
   "id": "3bb8ca21f9064ea7",
   "outputs": [
    {
     "name": "stdout",
     "output_type": "stream",
     "text": [
      "[[[ 0  1]\n",
      "  [ 2  3]\n",
      "  [ 4  5]\n",
      "  [ 6  7]\n",
      "  [ 8  9]\n",
      "  [10 11]]\n",
      "\n",
      " [[12 13]\n",
      "  [14 15]\n",
      "  [16 17]\n",
      "  [18 19]\n",
      "  [20 21]\n",
      "  [22 23]]]\n",
      "[[[0]]\n",
      "\n",
      " [[1]]]\n",
      "************************************************************\n",
      "[[[ 0  1]\n",
      "  [ 2  3]\n",
      "  [ 4  5]\n",
      "  [ 6  7]\n",
      "  [ 8  9]\n",
      "  [10 11]]\n",
      "\n",
      " [[13 14]\n",
      "  [15 16]\n",
      "  [17 18]\n",
      "  [19 20]\n",
      "  [21 22]\n",
      "  [23 24]]]\n"
     ]
    }
   ],
   "execution_count": 65
  },
  {
   "metadata": {},
   "cell_type": "markdown",
   "source": [
    "# 数组的轴\n",
    "二维：0-纵轴  1-横轴<br>\n",
    "三维：0-新轴  1-纵轴  2-横轴<br>\n",
    "n维：0-新轴 1-上一个的新轴 ……<br>\n",
    "**按什么轴运算，什么轴变化（非常重要）**"
   ],
   "id": "c2f178aebfa3ac26"
  },
  {
   "metadata": {},
   "cell_type": "raw",
   "source": [
    "# 轴操作 \n",
    ">sum( arr , axis ) 指定轴求和\n",
    "\n",
    ">append( arr , values , axis )  \n",
    "1、不指定轴，默认铺平后插在最后面\n",
    "2、指定轴，axis=n ， 就在n轴后插(n轴要变)\n",
    "3、指定轴需要注意：必须保证插入的数组和arr维数相同\n",
    "\n",
    ">insert(  arr, index , values , axis )\n",
    "1、不指定轴，铺平后，在index位置插入\n",
    "2、指定轴，axis=n ， 在n轴index位置插入(n轴要变)\n",
    "3、和append不同，不需要保证维数，会进行广播\n",
    "\n",
    ">delete( arr , index , axis )\n",
    "1、不指定轴，铺平后，删除index位置的元素\n",
    "2、指定轴，axis=n ， 在n轴index位置删除(n轴要变)"
   ],
   "id": "73659f79ee6e7953"
  },
  {
   "metadata": {
    "ExecuteTime": {
     "end_time": "2025-06-12T12:11:16.618415Z",
     "start_time": "2025-06-12T12:11:16.614181Z"
    }
   },
   "cell_type": "code",
   "source": [
    "arr = np.arange(12).reshape(3,4)\n",
    "print('原始数组：\\n',arr)\n",
    "\n",
    "print('纵轴求和：\\n',np.sum( arr , axis=0 ))\n",
    "\n",
    "print('横轴求和：\\n',np.sum( arr , axis=1 ))"
   ],
   "id": "9a739fa448f33b86",
   "outputs": [
    {
     "name": "stdout",
     "output_type": "stream",
     "text": [
      "原始数组：\n",
      " [[ 0  1  2  3]\n",
      " [ 4  5  6  7]\n",
      " [ 8  9 10 11]]\n",
      "纵轴求和：\n",
      " [12 15 18 21]\n",
      "横轴求和：\n",
      " [ 6 22 38]\n"
     ]
    }
   ],
   "execution_count": 100
  },
  {
   "metadata": {
    "ExecuteTime": {
     "end_time": "2025-06-12T12:02:30.000484Z",
     "start_time": "2025-06-12T12:02:29.996282Z"
    }
   },
   "cell_type": "code",
   "source": [
    "arr = np.arange(12).reshape(2,6)\n",
    "print('原始数组：\\n',arr)\n",
    "\n",
    "print('不指定轴：\\n',np.append( arr , [13,14,15,16,17,18]))\n",
    "\n",
    "print('指定纵轴（改变纵轴）：\\n',np.append(arr, [[-1, -2, -3, -4, -5, -6]], axis=0))   \n",
    "# np.append(arr, [-1, -2, -3, -4, -5, -6], axis=0)   报错，必须保证插入的数组和arr维数相同\n",
    "\n",
    "print('指定横轴（改变横轴）：\\n',np.append(arr, [[-1, -2, -3], [-4, -5, -6]], axis=1))"
   ],
   "id": "37c42a0cd0e91388",
   "outputs": [
    {
     "name": "stdout",
     "output_type": "stream",
     "text": [
      "原始数组：\n",
      " [[ 0  1  2  3  4  5]\n",
      " [ 6  7  8  9 10 11]]\n",
      "不指定轴：\n",
      " [ 0  1  2  3  4  5  6  7  8  9 10 11 13 14 15 16 17 18]\n",
      "指定纵轴（改变纵轴）：\n",
      " [[ 0  1  2  3  4  5]\n",
      " [ 6  7  8  9 10 11]\n",
      " [-1 -2 -3 -4 -5 -6]]\n",
      "指定横轴（改变横轴）：\n",
      " [[ 0  1  2  3  4  5 -1 -2 -3]\n",
      " [ 6  7  8  9 10 11 -4 -5 -6]]\n"
     ]
    }
   ],
   "execution_count": 89
  },
  {
   "metadata": {
    "ExecuteTime": {
     "end_time": "2025-06-12T12:03:21.681467Z",
     "start_time": "2025-06-12T12:03:21.676757Z"
    }
   },
   "cell_type": "code",
   "source": [
    "arr = np.arange(12).reshape(2,6)\n",
    "print('原始数组：\\n',arr)\n",
    "\n",
    "print('不指定轴：\\n',np.insert( arr , 1 , [13,14] ))\n",
    "\n",
    "print('指定纵轴（改变纵轴）：\\n',np.insert(arr, 1 , [-1, -2, -3, -4, -5, -6], axis=0))\n",
    "\n",
    "print('指定横轴（改变横轴）：\\n',np.insert(arr, 6 , [99], axis=1))  # 广播"
   ],
   "id": "acf0384eb9b8d89d",
   "outputs": [
    {
     "name": "stdout",
     "output_type": "stream",
     "text": [
      "原始数组：\n",
      " [[ 0  1  2  3  4  5]\n",
      " [ 6  7  8  9 10 11]]\n",
      "不指定轴：\n",
      " [ 0 13 14  1  2  3  4  5  6  7  8  9 10 11]\n",
      "指定纵轴（改变纵轴）：\n",
      " [[ 0  1  2  3  4  5]\n",
      " [-1 -2 -3 -4 -5 -6]\n",
      " [ 6  7  8  9 10 11]]\n",
      "指定横轴（改变横轴）：\n",
      " [[ 0  1  2  3  4  5 99]\n",
      " [ 6  7  8  9 10 11 99]]\n"
     ]
    }
   ],
   "execution_count": 91
  },
  {
   "metadata": {
    "ExecuteTime": {
     "end_time": "2025-06-12T12:08:14.597489Z",
     "start_time": "2025-06-12T12:08:14.592373Z"
    }
   },
   "cell_type": "code",
   "source": [
    "arr = arr = np.arange(12).reshape(2,6)\n",
    "print('原始数组：\\n',arr)\n",
    "\n",
    "print('不指定轴：\\n',np.delete( arr , 0 ))\n",
    "\n",
    "print('指定纵轴（改变纵轴）：\\n',np.delete(arr, 1 , axis=0))\n",
    "\n",
    "print('指定横轴（改变横轴）：\\n',np.delete(arr, 0 , axis=1))"
   ],
   "id": "1f13faaa154c01fc",
   "outputs": [
    {
     "name": "stdout",
     "output_type": "stream",
     "text": [
      "原始数组：\n",
      " [[ 0  1  2  3  4  5]\n",
      " [ 6  7  8  9 10 11]]\n",
      "不指定轴：\n",
      " [ 1  2  3  4  5  6  7  8  9 10 11]\n",
      "指定纵轴（改变纵轴）：\n",
      " [[0 1 2 3 4 5]]\n",
      "指定横轴（改变横轴）：\n",
      " [[ 1  2  3  4  5]\n",
      " [ 7  8  9 10 11]]\n"
     ]
    }
   ],
   "execution_count": 99
  },
  {
   "metadata": {},
   "cell_type": "markdown",
   "source": "# 索引和切片",
   "id": "d52a6174d49cbc0a"
  },
  {
   "metadata": {},
   "cell_type": "raw",
   "source": [
    "# [ [x] , [y] ]  ，  ':' 连续选择\n",
    "1、[ a:b , c:d ] ： 选择 a~(b-1) 行 ， c~(d-1) 列\n",
    "2、[ [a,b] , [c,d] ] ： 取值 (a,c) 和 (b,d)\n",
    "4、[ [a,b] ]  或  [ [a,b] , : ]  ： 选择a和b行\n",
    "5、-1表示最后 如 [ -1,-1 ] : 选择最后一行最后一列"
   ],
   "id": "7819a13a9e462cb"
  },
  {
   "metadata": {
    "ExecuteTime": {
     "end_time": "2025-06-12T12:24:02.285360Z",
     "start_time": "2025-06-12T12:24:02.279584Z"
    }
   },
   "cell_type": "code",
   "source": [
    "arr = np.arange(24).reshape(4,6)\n",
    "print('原始数组：\\n',arr)\n",
    "print('取1-2行：\\n',arr[1:3])  \n",
    "print('取0,2,3行：\\n',arr[[0,2,3]])\n",
    "\n",
    "print('取(0,1),(2,3)：\\n',arr[ [0,2] , [1,3] ])\n",
    "print('取2-3行，3-4列的元素：\\n',arr[ 2:4 , 3:5 ])"
   ],
   "id": "33eb38081aacc3b7",
   "outputs": [
    {
     "name": "stdout",
     "output_type": "stream",
     "text": [
      "原始数组：\n",
      " [[ 0  1  2  3  4  5]\n",
      " [ 6  7  8  9 10 11]\n",
      " [12 13 14 15 16 17]\n",
      " [18 19 20 21 22 23]]\n",
      "取1-2行：\n",
      " [[ 6  7  8  9 10 11]\n",
      " [12 13 14 15 16 17]]\n",
      "取0,2,3行：\n",
      " [[ 0  1  2  3  4  5]\n",
      " [12 13 14 15 16 17]\n",
      " [18 19 20 21 22 23]]\n",
      "取(0,1),(2,3)：\n",
      " [ 1 15]\n",
      "取2-3行，3-4列的元素：\n",
      " [[15 16]\n",
      " [21 22]]\n"
     ]
    }
   ],
   "execution_count": 102
  },
  {
   "metadata": {},
   "cell_type": "markdown",
   "source": "# 数据修改和比较",
   "id": "e0a2f2a5d7c12345"
  },
  {
   "metadata": {},
   "cell_type": "raw",
   "source": [
    "# 通过索引查找后修改 \n",
    "# 比较\n",
    "1、与 & （逻辑与）\n",
    "2、或 | （逻辑或）\n",
    "3、非 ~\n",
    "4、原理：通过比较运算符 返回一个bool的数组"
   ],
   "id": "b8e3cf42c2b26338"
  },
  {
   "metadata": {
    "ExecuteTime": {
     "end_time": "2025-06-12T12:40:38.233670Z",
     "start_time": "2025-06-12T12:40:38.228937Z"
    }
   },
   "cell_type": "code",
   "source": [
    "arr = np.arange( 24 ).reshape( 4, 6 )\n",
    "\n",
    "# 所有符合 <2 的元素 ，都返回 True\n",
    "arr<10"
   ],
   "id": "ca37632f20e0038e",
   "outputs": [
    {
     "data": {
      "text/plain": [
       "array([[ True,  True,  True,  True,  True,  True],\n",
       "       [ True,  True,  True,  True, False, False],\n",
       "       [False, False, False, False, False, False],\n",
       "       [False, False, False, False, False, False]])"
      ]
     },
     "execution_count": 113,
     "metadata": {},
     "output_type": "execute_result"
    }
   ],
   "execution_count": 113
  },
  {
   "metadata": {
    "ExecuteTime": {
     "end_time": "2025-06-12T12:43:44.482919Z",
     "start_time": "2025-06-12T12:43:44.477467Z"
    }
   },
   "cell_type": "code",
   "source": [
    "arr = np.arange(24).reshape(4,6)\n",
    "\n",
    "arr[ (arr<10) | (arr>20) ] = -1\n",
    "print('把小于10，大于20的元素修改为-1：\\n',arr)\n",
    "\n",
    "arr = arr.astype(float)     # non是浮点数，需要把数组变成浮点数组\n",
    "arr[ arr==-1] = np.nan\n",
    "print('把-1改成nan：\\n',arr)\n",
    "\n",
    "arr[ np.isnan(arr) ] = 0\n",
    "print('把nan改成0：\\n',arr)\n"
   ],
   "id": "145a049670df2439",
   "outputs": [
    {
     "name": "stdout",
     "output_type": "stream",
     "text": [
      "把小于10，大于20的元素修改为-1：\n",
      " [[-1 -1 -1 -1 -1 -1]\n",
      " [-1 -1 -1 -1 10 11]\n",
      " [12 13 14 15 16 17]\n",
      " [18 19 20 -1 -1 -1]]\n",
      "把-1改成nan：\n",
      " [[nan nan nan nan nan nan]\n",
      " [nan nan nan nan 10. 11.]\n",
      " [12. 13. 14. 15. 16. 17.]\n",
      " [18. 19. 20. nan nan nan]]\n",
      "把nan改成0：\n",
      " [[ 0.  0.  0.  0.  0.  0.]\n",
      " [ 0.  0.  0.  0. 10. 11.]\n",
      " [12. 13. 14. 15. 16. 17.]\n",
      " [18. 19. 20.  0.  0.  0.]]\n"
     ]
    }
   ],
   "execution_count": 114
  },
  {
   "metadata": {},
   "cell_type": "markdown",
   "source": "# nan 和 inf",
   "id": "c7de8a4e933018cb"
  },
  {
   "metadata": {},
   "cell_type": "raw",
   "source": [
    "1、 nan 和 inf 本质都是浮点数 ， nan代表不是一个数字 ， inf代表无穷大<br>\n",
    "2、 nan 的运算规则  ： nan != nan 即两个nan不相等<br>\n",
    "3、 inf 的使用场景 ： 初始化可以默认无穷大。  1/0 返回 inf 而不是 除0异常<br>\n",
    "4、 inf 的运算：inf == inf 即两个inf相等\n",
    "4、 使用nan和inf时， 数组必须是浮点数数组"
   ],
   "id": "c0dcfadc04b4ea54"
  },
  {
   "metadata": {
    "ExecuteTime": {
     "end_time": "2025-06-12T13:09:59.468812Z",
     "start_time": "2025-06-12T13:09:59.463662Z"
    }
   },
   "cell_type": "code",
   "source": [
    "arr = np.arange(12,dtype=float).reshape(3,4)\n",
    "non = np.nan\n",
    "arr[ arr<5 ] = non\n",
    "print(arr)\n",
    "\n",
    "print('*'*60)\n",
    "print('接下来演示non和non是否相等,arr==arr?：')\n",
    "print(arr==arr)\n",
    "\n",
    "print('*'*60)\n",
    "arr[np.isnan(arr)]=-1\n",
    "print('演示 nan!=nan 和 np.isnan( ) 是等价的：\\n',arr)\n"
   ],
   "id": "5b1584082c5ac181",
   "outputs": [
    {
     "name": "stdout",
     "output_type": "stream",
     "text": [
      "[[nan nan nan nan]\n",
      " [nan  5.  6.  7.]\n",
      " [ 8.  9. 10. 11.]]\n",
      "************************************************************\n",
      "接下来演示non和non是否相等,arr==arr?：\n",
      "[[False False False False]\n",
      " [False  True  True  True]\n",
      " [ True  True  True  True]]\n",
      "************************************************************\n",
      "演示 nan!=nan 和 np.isnan 是等价的：\n",
      " [[-1. -1. -1. -1.]\n",
      " [-1.  5.  6.  7.]\n",
      " [ 8.  9. 10. 11.]]\n"
     ]
    }
   ],
   "execution_count": 145
  }
 ],
 "metadata": {
  "kernelspec": {
   "display_name": "Python 3",
   "language": "python",
   "name": "python3"
  },
  "language_info": {
   "codemirror_mode": {
    "name": "ipython",
    "version": 2
   },
   "file_extension": ".py",
   "mimetype": "text/x-python",
   "name": "python",
   "nbconvert_exporter": "python",
   "pygments_lexer": "ipython2",
   "version": "2.7.6"
  }
 },
 "nbformat": 4,
 "nbformat_minor": 5
}
