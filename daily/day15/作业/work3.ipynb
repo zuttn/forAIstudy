{
 "cells": [
  {
   "metadata": {},
   "cell_type": "markdown",
   "source": "# pandas 使用",
   "id": "13ebc52cc7cff74e"
  },
  {
   "metadata": {
    "ExecuteTime": {
     "end_time": "2025-06-13T06:31:05.694100Z",
     "start_time": "2025-06-13T06:31:03.732144Z"
    }
   },
   "cell_type": "code",
   "source": [
    "import pandas as pd\n",
    "import numpy as np"
   ],
   "id": "660fdb01ed9bdbe4",
   "outputs": [],
   "execution_count": 2
  },
  {
   "metadata": {},
   "cell_type": "markdown",
   "source": "# 构造pandas对象",
   "id": "94156fd7880a22f6"
  },
  {
   "metadata": {},
   "cell_type": "raw",
   "source": [
    "1、series\n",
    "- 多个行索引，一个列索引\n",
    "属性 : \n",
    "series.head() 返回前五行\n",
    "series.index  返回索引\n",
    "\n",
    "2、DataFrame\n",
    "- 多个行索引，多个列索引"
   ],
   "id": "60240e1aa563f644"
  },
  {
   "metadata": {
    "ExecuteTime": {
     "end_time": "2025-06-13T06:31:05.712115Z",
     "start_time": "2025-06-13T06:31:05.695101Z"
    }
   },
   "cell_type": "code",
   "source": [
    "# 用 列表 、 字典 、 ndarray 创建pandas对象\n",
    "\n",
    "# 用list 创建series\n",
    "ser_obj = pd.Series(range(10))\n",
    "\n",
    "# 用字典创建series\n",
    "dict = {'A': 1,\n",
    "             'B': pd.Timestamp('20190926'),\n",
    "             'C': pd.Series(1, index=list(range(4)), dtype='float32'),\n",
    "             'D': np.array([3] * 4, dtype='int32'),\n",
    "             'E': [\"Python\", \"Java\", \"C++\", \"C\"],\n",
    "             'F': 'wangdao'}\n",
    "ser_obj2 = pd.Series(dict)\n",
    "\n",
    "# head() 查看最多前5行数据\n",
    "print(ser_obj.head())\n",
    "\n",
    "# index 查看字典的索引\n",
    "print(ser_obj2.index)\n",
    "\n",
    "ser_obj2 "
   ],
   "id": "97463c9afaf0995a",
   "outputs": [
    {
     "name": "stdout",
     "output_type": "stream",
     "text": [
      "0    0\n",
      "1    1\n",
      "2    2\n",
      "3    3\n",
      "4    4\n",
      "dtype: int64\n",
      "Index(['A', 'B', 'C', 'D', 'E', 'F'], dtype='object')\n"
     ]
    },
    {
     "data": {
      "text/plain": [
       "A                                                    1\n",
       "B                                  2019-09-26 00:00:00\n",
       "C    0    1.0\n",
       "1    1.0\n",
       "2    1.0\n",
       "3    1.0\n",
       "dtype: flo...\n",
       "D                                         [3, 3, 3, 3]\n",
       "E                               [Python, Java, C++, C]\n",
       "F                                              wangdao\n",
       "dtype: object"
      ]
     },
     "execution_count": 3,
     "metadata": {},
     "output_type": "execute_result"
    }
   ],
   "execution_count": 3
  },
  {
   "metadata": {
    "ExecuteTime": {
     "end_time": "2025-06-13T06:31:05.720891Z",
     "start_time": "2025-06-13T06:31:05.713110Z"
    }
   },
   "cell_type": "code",
   "source": [
    "\n",
    "# 用ndarray数组 创建DataFrame\n",
    "t = pd.DataFrame(np.arange(12).reshape((3, 4)))\n",
    "t"
   ],
   "id": "3972b5239dd8511d",
   "outputs": [
    {
     "data": {
      "text/plain": [
       "   0  1   2   3\n",
       "0  0  1   2   3\n",
       "1  4  5   6   7\n",
       "2  8  9  10  11"
      ],
      "text/html": [
       "<div>\n",
       "<style scoped>\n",
       "    .dataframe tbody tr th:only-of-type {\n",
       "        vertical-align: middle;\n",
       "    }\n",
       "\n",
       "    .dataframe tbody tr th {\n",
       "        vertical-align: top;\n",
       "    }\n",
       "\n",
       "    .dataframe thead th {\n",
       "        text-align: right;\n",
       "    }\n",
       "</style>\n",
       "<table border=\"1\" class=\"dataframe\">\n",
       "  <thead>\n",
       "    <tr style=\"text-align: right;\">\n",
       "      <th></th>\n",
       "      <th>0</th>\n",
       "      <th>1</th>\n",
       "      <th>2</th>\n",
       "      <th>3</th>\n",
       "    </tr>\n",
       "  </thead>\n",
       "  <tbody>\n",
       "    <tr>\n",
       "      <th>0</th>\n",
       "      <td>0</td>\n",
       "      <td>1</td>\n",
       "      <td>2</td>\n",
       "      <td>3</td>\n",
       "    </tr>\n",
       "    <tr>\n",
       "      <th>1</th>\n",
       "      <td>4</td>\n",
       "      <td>5</td>\n",
       "      <td>6</td>\n",
       "      <td>7</td>\n",
       "    </tr>\n",
       "    <tr>\n",
       "      <th>2</th>\n",
       "      <td>8</td>\n",
       "      <td>9</td>\n",
       "      <td>10</td>\n",
       "      <td>11</td>\n",
       "    </tr>\n",
       "  </tbody>\n",
       "</table>\n",
       "</div>"
      ]
     },
     "execution_count": 4,
     "metadata": {},
     "output_type": "execute_result"
    }
   ],
   "execution_count": 4
  },
  {
   "metadata": {},
   "cell_type": "markdown",
   "source": "##  添加，删除列",
   "id": "f7c10a28d5b107f3"
  },
  {
   "metadata": {
    "ExecuteTime": {
     "end_time": "2025-06-13T06:31:05.729391Z",
     "start_time": "2025-06-13T06:31:05.721886Z"
    }
   },
   "cell_type": "code",
   "source": [
    "# 为字典创建的df 新增一列 ， 值为'D'列的值 + 4\n",
    "ser_obj2['G'] = ser_obj2['D'] + 4\n",
    "ser_obj2"
   ],
   "id": "664b550c8d2bfd80",
   "outputs": [
    {
     "data": {
      "text/plain": [
       "A                                                    1\n",
       "B                                  2019-09-26 00:00:00\n",
       "C    0    1.0\n",
       "1    1.0\n",
       "2    1.0\n",
       "3    1.0\n",
       "dtype: flo...\n",
       "D                                         [3, 3, 3, 3]\n",
       "E                               [Python, Java, C++, C]\n",
       "F                                              wangdao\n",
       "G                                         [7, 7, 7, 7]\n",
       "dtype: object"
      ]
     },
     "execution_count": 5,
     "metadata": {},
     "output_type": "execute_result"
    }
   ],
   "execution_count": 5
  },
  {
   "metadata": {
    "ExecuteTime": {
     "end_time": "2025-06-13T06:31:05.736403Z",
     "start_time": "2025-06-13T06:31:05.730387Z"
    }
   },
   "cell_type": "code",
   "source": [
    "# 删除’G'列\n",
    "del(ser_obj2['G'] )\n",
    "ser_obj2"
   ],
   "id": "7525160e6d72bd7e",
   "outputs": [
    {
     "data": {
      "text/plain": [
       "A                                                    1\n",
       "B                                  2019-09-26 00:00:00\n",
       "C    0    1.0\n",
       "1    1.0\n",
       "2    1.0\n",
       "3    1.0\n",
       "dtype: flo...\n",
       "D                                         [3, 3, 3, 3]\n",
       "E                               [Python, Java, C++, C]\n",
       "F                                              wangdao\n",
       "dtype: object"
      ]
     },
     "execution_count": 6,
     "metadata": {},
     "output_type": "execute_result"
    }
   ],
   "execution_count": 6
  }
 ],
 "metadata": {
  "kernelspec": {
   "display_name": "Python 3",
   "language": "python",
   "name": "python3"
  },
  "language_info": {
   "codemirror_mode": {
    "name": "ipython",
    "version": 2
   },
   "file_extension": ".py",
   "mimetype": "text/x-python",
   "name": "python",
   "nbconvert_exporter": "python",
   "pygments_lexer": "ipython2",
   "version": "2.7.6"
  }
 },
 "nbformat": 4,
 "nbformat_minor": 5
}
