{
 "cells": [
  {
   "cell_type": "code",
   "execution_count": 2,
   "id": "b46482dd9745543d",
   "metadata": {
    "ExecuteTime": {
     "end_time": "2025-06-12T08:36:40.589983Z",
     "start_time": "2025-06-12T08:36:40.320569Z"
    }
   },
   "outputs": [],
   "source": [
    "import pandas as pd\n",
    "import numpy as np"
   ]
  },
  {
   "cell_type": "code",
   "execution_count": 3,
   "id": "initial_id",
   "metadata": {
    "ExecuteTime": {
     "end_time": "2025-06-12T08:36:41.883979Z",
     "start_time": "2025-06-12T08:36:41.879345Z"
    },
    "collapsed": true
   },
   "outputs": [
    {
     "name": "stdout",
     "output_type": "stream",
     "text": [
      "          0         1         2         3\n",
      "0 -0.753783 -1.747858 -2.397037  0.611082\n",
      "1 -0.557438  0.174093 -1.136524 -1.075185\n",
      "2 -0.332459 -0.850869 -0.010462  0.810597\n",
      "3 -1.871245 -1.482729 -0.555021 -1.038947\n",
      "4 -1.559087 -2.222154 -0.443373 -1.233228\n"
     ]
    }
   ],
   "source": [
    "df = pd.DataFrame(np.random.randn(5,4) - 1)\n",
    "print(df)"
   ]
  },
  {
   "cell_type": "code",
   "execution_count": 7,
   "id": "abc6feb1468e9504",
   "metadata": {
    "ExecuteTime": {
     "end_time": "2025-06-12T08:37:35.587367Z",
     "start_time": "2025-06-12T08:37:35.583736Z"
    }
   },
   "outputs": [
    {
     "name": "stdout",
     "output_type": "stream",
     "text": [
      "          0         1         2         3\n",
      "0  0.753783  1.747858  2.397037  0.611082\n",
      "1  0.557438  0.174093  1.136524  1.075185\n",
      "2  0.332459  0.850869  0.010462  0.810597\n",
      "3  1.871245  1.482729  0.555021  1.038947\n",
      "4  1.559087  2.222154  0.443373  1.233228\n"
     ]
    }
   ],
   "source": [
    "print(np.abs(df))"
   ]
  },
  {
   "cell_type": "code",
   "execution_count": 8,
   "id": "aa2fb4471488f2a2",
   "metadata": {
    "ExecuteTime": {
     "end_time": "2025-06-12T08:39:55.910968Z",
     "start_time": "2025-06-12T08:39:55.907364Z"
    }
   },
   "outputs": [
    {
     "name": "stdout",
     "output_type": "stream",
     "text": [
      "0   -0.332459\n",
      "1    0.174093\n",
      "2   -0.010462\n",
      "3    0.810597\n",
      "dtype: float64\n"
     ]
    }
   ],
   "source": [
    "print(df.apply(lambda x : x.max(),axis=0))"
   ]
  },
  {
   "cell_type": "code",
   "execution_count": 9,
   "id": "5b83c1a3402f9152",
   "metadata": {
    "ExecuteTime": {
     "end_time": "2025-06-12T08:40:51.947016Z",
     "start_time": "2025-06-12T08:40:51.941238Z"
    }
   },
   "outputs": [
    {
     "name": "stdout",
     "output_type": "stream",
     "text": [
      "0    0.611082\n",
      "1    0.174093\n",
      "2    0.810597\n",
      "3   -0.555021\n",
      "4   -0.443373\n",
      "dtype: float64\n"
     ]
    }
   ],
   "source": [
    "print(df.apply(lambda x : x.max(), axis=1))"
   ]
  },
  {
   "cell_type": "code",
   "execution_count": 10,
   "id": "efec3b23cdfcbf8",
   "metadata": {
    "ExecuteTime": {
     "end_time": "2025-06-12T08:41:15.991128Z",
     "start_time": "2025-06-12T08:41:15.987531Z"
    }
   },
   "outputs": [
    {
     "name": "stdout",
     "output_type": "stream",
     "text": [
      "       0      1      2      3\n",
      "0  -0.75  -1.75  -2.40   0.61\n",
      "1  -0.56   0.17  -1.14  -1.08\n",
      "2  -0.33  -0.85  -0.01   0.81\n",
      "3  -1.87  -1.48  -0.56  -1.04\n",
      "4  -1.56  -2.22  -0.44  -1.23\n"
     ]
    }
   ],
   "source": [
    "f2 = lambda x : '%.2f' % x\n",
    "print(df.map(f2))"
   ]
  },
  {
   "cell_type": "markdown",
   "id": "477edf7f08bcccc9",
   "metadata": {},
   "source": [
    "## 索引排序与值排序"
   ]
  },
  {
   "cell_type": "code",
   "execution_count": 13,
   "id": "1b54dadef4751e21",
   "metadata": {
    "ExecuteTime": {
     "end_time": "2025-06-12T08:42:12.853568Z",
     "start_time": "2025-06-12T08:42:12.850985Z"
    }
   },
   "outputs": [
    {
     "name": "stdout",
     "output_type": "stream",
     "text": [
      "3    10\n",
      "4    11\n",
      "0    12\n",
      "1    13\n",
      "2    14\n",
      "dtype: int64\n"
     ]
    }
   ],
   "source": [
    "s4 = pd.Series(range(10, 15), index = np.random.randint(5, size=5))\n",
    "print(s4)"
   ]
  },
  {
   "cell_type": "code",
   "execution_count": 14,
   "id": "f1e37af4da9c98ab",
   "metadata": {
    "ExecuteTime": {
     "end_time": "2025-06-12T08:42:28.882401Z",
     "start_time": "2025-06-12T08:42:28.875648Z"
    }
   },
   "outputs": [
    {
     "data": {
      "text/plain": [
       "0    12\n",
       "1    13\n",
       "2    14\n",
       "3    10\n",
       "4    11\n",
       "dtype: int64"
      ]
     },
     "execution_count": 14,
     "metadata": {},
     "output_type": "execute_result"
    }
   ],
   "source": [
    "# 索引排序\n",
    "s4.sort_index()"
   ]
  },
  {
   "cell_type": "code",
   "execution_count": 15,
   "id": "50dcb12e318cf8c6",
   "metadata": {
    "ExecuteTime": {
     "end_time": "2025-06-12T08:42:54.944245Z",
     "start_time": "2025-06-12T08:42:54.938170Z"
    }
   },
   "outputs": [
    {
     "data": {
      "text/html": [
       "<div>\n",
       "<style scoped>\n",
       "    .dataframe tbody tr th:only-of-type {\n",
       "        vertical-align: middle;\n",
       "    }\n",
       "\n",
       "    .dataframe tbody tr th {\n",
       "        vertical-align: top;\n",
       "    }\n",
       "\n",
       "    .dataframe thead th {\n",
       "        text-align: right;\n",
       "    }\n",
       "</style>\n",
       "<table border=\"1\" class=\"dataframe\">\n",
       "  <thead>\n",
       "    <tr style=\"text-align: right;\">\n",
       "      <th></th>\n",
       "      <th>4</th>\n",
       "      <th>4</th>\n",
       "      <th>3</th>\n",
       "      <th>1</th>\n",
       "      <th>4</th>\n",
       "    </tr>\n",
       "  </thead>\n",
       "  <tbody>\n",
       "    <tr>\n",
       "      <th>1</th>\n",
       "      <td>-2.105629</td>\n",
       "      <td>0.366681</td>\n",
       "      <td>-0.321563</td>\n",
       "      <td>-1.198535</td>\n",
       "      <td>-1.109730</td>\n",
       "    </tr>\n",
       "    <tr>\n",
       "      <th>2</th>\n",
       "      <td>0.629513</td>\n",
       "      <td>-2.086244</td>\n",
       "      <td>0.318798</td>\n",
       "      <td>1.066905</td>\n",
       "      <td>0.487349</td>\n",
       "    </tr>\n",
       "    <tr>\n",
       "      <th>0</th>\n",
       "      <td>-1.749081</td>\n",
       "      <td>-1.134898</td>\n",
       "      <td>1.354358</td>\n",
       "      <td>-0.078968</td>\n",
       "      <td>0.011394</td>\n",
       "    </tr>\n",
       "  </tbody>\n",
       "</table>\n",
       "</div>"
      ],
      "text/plain": [
       "          4         4         3         1         4\n",
       "1 -2.105629  0.366681 -0.321563 -1.198535 -1.109730\n",
       "2  0.629513 -2.086244  0.318798  1.066905  0.487349\n",
       "0 -1.749081 -1.134898  1.354358 -0.078968  0.011394"
      ]
     },
     "execution_count": 15,
     "metadata": {},
     "output_type": "execute_result"
    }
   ],
   "source": [
    "df4 = pd.DataFrame(np.random.randn(3, 5), \n",
    "                   index=np.random.randint(3, size=3),\n",
    "                   columns=np.random.randint(5, size=5))\n",
    "df4"
   ]
  },
  {
   "cell_type": "code",
   "execution_count": 18,
   "id": "69a5a9fabba52d59",
   "metadata": {
    "ExecuteTime": {
     "end_time": "2025-06-12T08:45:10.873699Z",
     "start_time": "2025-06-12T08:45:10.868957Z"
    }
   },
   "outputs": [
    {
     "data": {
      "text/html": [
       "<div>\n",
       "<style scoped>\n",
       "    .dataframe tbody tr th:only-of-type {\n",
       "        vertical-align: middle;\n",
       "    }\n",
       "\n",
       "    .dataframe tbody tr th {\n",
       "        vertical-align: top;\n",
       "    }\n",
       "\n",
       "    .dataframe thead th {\n",
       "        text-align: right;\n",
       "    }\n",
       "</style>\n",
       "<table border=\"1\" class=\"dataframe\">\n",
       "  <thead>\n",
       "    <tr style=\"text-align: right;\">\n",
       "      <th></th>\n",
       "      <th>4</th>\n",
       "      <th>4</th>\n",
       "      <th>3</th>\n",
       "      <th>1</th>\n",
       "      <th>4</th>\n",
       "    </tr>\n",
       "  </thead>\n",
       "  <tbody>\n",
       "    <tr>\n",
       "      <th>1</th>\n",
       "      <td>-2.105629</td>\n",
       "      <td>0.366681</td>\n",
       "      <td>-0.321563</td>\n",
       "      <td>-1.198535</td>\n",
       "      <td>-1.109730</td>\n",
       "    </tr>\n",
       "    <tr>\n",
       "      <th>2</th>\n",
       "      <td>0.629513</td>\n",
       "      <td>-2.086244</td>\n",
       "      <td>0.318798</td>\n",
       "      <td>1.066905</td>\n",
       "      <td>0.487349</td>\n",
       "    </tr>\n",
       "    <tr>\n",
       "      <th>0</th>\n",
       "      <td>-1.749081</td>\n",
       "      <td>-1.134898</td>\n",
       "      <td>1.354358</td>\n",
       "      <td>-0.078968</td>\n",
       "      <td>0.011394</td>\n",
       "    </tr>\n",
       "  </tbody>\n",
       "</table>\n",
       "</div>"
      ],
      "text/plain": [
       "          4         4         3         1         4\n",
       "1 -2.105629  0.366681 -0.321563 -1.198535 -1.109730\n",
       "2  0.629513 -2.086244  0.318798  1.066905  0.487349\n",
       "0 -1.749081 -1.134898  1.354358 -0.078968  0.011394"
      ]
     },
     "execution_count": 18,
     "metadata": {},
     "output_type": "execute_result"
    }
   ],
   "source": [
    "df4.sort_values(by=3)"
   ]
  },
  {
   "cell_type": "markdown",
   "id": "11674bdd0945f220",
   "metadata": {},
   "source": [
    "# 处理缺失数据"
   ]
  },
  {
   "cell_type": "code",
   "execution_count": 19,
   "id": "517e16acfa260fca",
   "metadata": {
    "ExecuteTime": {
     "end_time": "2025-06-12T08:47:20.861340Z",
     "start_time": "2025-06-12T08:47:20.857228Z"
    }
   },
   "outputs": [
    {
     "name": "stdout",
     "output_type": "stream",
     "text": [
      "          0         1         2\n",
      "0  0.787945 -0.799501  0.389241\n",
      "1  1.000000  2.000000       NaN\n",
      "2       NaN  4.000000       NaN\n",
      "3  1.000000  2.000000  3.000000\n"
     ]
    }
   ],
   "source": [
    "df_data = pd.DataFrame([np.random.randn(3), [1., 2., np.nan],\n",
    "                       [np.nan, 4., np.nan], [1., 2., 3.]])\n",
    "print(df_data.head())"
   ]
  },
  {
   "cell_type": "code",
   "id": "ba1f22da124e9489",
   "metadata": {
    "ExecuteTime": {
     "end_time": "2025-06-12T08:49:06.253024Z",
     "start_time": "2025-06-12T08:49:06.246979Z"
    }
   },
   "source": [
    "# 计算每一列的缺失值数量\n",
    "missing_values = df_data.isnull().sum()\n",
    "# 计算每一列的缺失率\n",
    "missing_rate = missing_values / len(df_data)\n",
    "print(missing_rate)\n"
   ],
   "outputs": [
    {
     "name": "stdout",
     "output_type": "stream",
     "text": [
      "0    0.25\n",
      "1    0.00\n",
      "2    0.50\n",
      "dtype: float64\n"
     ]
    }
   ],
   "execution_count": 21
  },
  {
   "metadata": {
    "ExecuteTime": {
     "end_time": "2025-06-12T08:50:38.761129Z",
     "start_time": "2025-06-12T08:50:38.757011Z"
    }
   },
   "cell_type": "code",
   "source": "print(df_data.dropna())",
   "id": "9f94fc2d3ac80326",
   "outputs": [
    {
     "name": "stdout",
     "output_type": "stream",
     "text": [
      "          0         1         2\n",
      "0  0.787945 -0.799501  0.389241\n",
      "3  1.000000  2.000000  3.000000\n"
     ]
    }
   ],
   "execution_count": 22
  },
  {
   "metadata": {
    "ExecuteTime": {
     "end_time": "2025-06-12T08:51:37.259642Z",
     "start_time": "2025-06-12T08:51:37.255947Z"
    }
   },
   "cell_type": "code",
   "source": "print(df_data.dropna(axis=1))",
   "id": "7c621183d10c2d6b",
   "outputs": [
    {
     "name": "stdout",
     "output_type": "stream",
     "text": [
      "          1\n",
      "0 -0.799501\n",
      "1  2.000000\n",
      "2  4.000000\n",
      "3  2.000000\n"
     ]
    }
   ],
   "execution_count": 23
  },
  {
   "metadata": {
    "ExecuteTime": {
     "end_time": "2025-06-12T08:51:55.673800Z",
     "start_time": "2025-06-12T08:51:55.668704Z"
    }
   },
   "cell_type": "code",
   "source": "print(df_data.fillna(-100.))",
   "id": "38ee7aea6622c5ec",
   "outputs": [
    {
     "name": "stdout",
     "output_type": "stream",
     "text": [
      "            0         1           2\n",
      "0    0.787945 -0.799501    0.389241\n",
      "1    1.000000  2.000000 -100.000000\n",
      "2 -100.000000  4.000000 -100.000000\n",
      "3    1.000000  2.000000    3.000000\n"
     ]
    }
   ],
   "execution_count": 24
  }
 ],
 "metadata": {
  "kernelspec": {
   "display_name": "Python 3",
   "language": "python",
   "name": "python3"
  },
  "language_info": {
   "codemirror_mode": {
    "name": "ipython",
    "version": 2
   },
   "file_extension": ".py",
   "mimetype": "text/x-python",
   "name": "python",
   "nbconvert_exporter": "python",
   "pygments_lexer": "ipython2",
   "version": "2.7.6"
  }
 },
 "nbformat": 4,
 "nbformat_minor": 5
}
