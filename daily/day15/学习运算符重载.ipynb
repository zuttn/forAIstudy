{
 "cells": [
  {
   "cell_type": "code",
   "execution_count": null,
   "metadata": {},
   "outputs": [
    {
     "name": "stdout",
     "output_type": "stream",
     "text": [
      "obj1 是否小于 obj2: True\n"
     ]
    }
   ],
   "source": [
    "class ComparableObject:\n",
    "    def __init__(self, value):\n",
    "        self.value = value\n",
    "\n",
    "    def __lt__(self, other):\n",
    "        \"\"\"定义小于比较方法\"\"\"\n",
    "        return self.value < other.value\n",
    "\n",
    "    # def __le__(self, other):\n",
    "    #     \"\"\"定义小于等于比较方法\"\"\"\n",
    "    #     return self.value <= other.value\n",
    "\n",
    "    # def __gt__(self, other):\n",
    "    #     \"\"\"定义大于比较方法\"\"\"\n",
    "    #     return self.value > other.value\n",
    "\n",
    "    # def __ge__(self, other):\n",
    "    #     \"\"\"定义大于等于比较方法\"\"\"\n",
    "    #     return self.value >= other.value\n",
    "\n",
    "    # def __eq__(self, other):\n",
    "    #     \"\"\"定义等于比较方法\"\"\"\n",
    "    #     return self.value == other.value\n",
    "\n",
    "    # def __ne__(self, other):\n",
    "    #     \"\"\"定义不等于比较方法\"\"\"\n",
    "    #     return self.value != other.value\n",
    "# 实例化两个 ComparableObject 对象\n",
    "obj1 = ComparableObject(10)\n",
    "obj2 = ComparableObject(20)\n",
    "\n",
    "# 比较大小并输出结果\n",
    "print(f\"obj1 是否小于 obj2: {obj1 < obj2}\")\n",
    "# print(f\"obj1 是否小于等于 obj2: {obj1 <= obj2}\")\n",
    "# print(f\"obj1 是否大于 obj2: {obj1 > obj2}\")\n",
    "# print(f\"obj1 是否大于等于 obj2: {obj1 >= obj2}\")\n",
    "# print(f\"obj1 是否等于 obj2: {obj1 == obj2}\")\n",
    "# print(f\"obj1 是否不等于 obj2: {obj1 != obj2}\")\n"
   ]
  }
 ],
 "metadata": {
  "kernelspec": {
   "display_name": "Python 3",
   "language": "python",
   "name": "python3"
  },
  "language_info": {
   "codemirror_mode": {
    "name": "ipython",
    "version": 3
   },
   "file_extension": ".py",
   "mimetype": "text/x-python",
   "name": "python",
   "nbconvert_exporter": "python",
   "pygments_lexer": "ipython3",
   "version": "3.12.3"
  }
 },
 "nbformat": 4,
 "nbformat_minor": 2
}
