{
 "cells": [
  {
   "cell_type": "code",
   "id": "initial_id",
   "metadata": {
    "collapsed": true,
    "ExecuteTime": {
     "end_time": "2025-06-13T11:36:10.996741Z",
     "start_time": "2025-06-13T11:36:10.372127Z"
    }
   },
   "source": [
    "import pandas as pd\n",
    "import numpy as np\n",
    "\n",
    "\n",
    "# 建立两层索引 ： index= [ [索引数组1] , [索引数组2] ] \n",
    "ser_obj = pd.Series(np.random.randn(12),index=[\n",
    "                ['a', 'a', 'a', 'b', 'b', 'b', 'c', 'c', 'c', 'd', 'd', 'd'],\n",
    "                [0, 1, 2, 0, 1, 2, 0, 1, 2, 0, 1, 2]\n",
    "            ])\n",
    "print(ser_obj)"
   ],
   "outputs": [
    {
     "name": "stdout",
     "output_type": "stream",
     "text": [
      "a  0    1.006445\n",
      "   1    0.778926\n",
      "   2    0.111942\n",
      "b  0   -0.840675\n",
      "   1   -0.923971\n",
      "   2   -0.132893\n",
      "c  0    0.873791\n",
      "   1    0.476920\n",
      "   2    1.828015\n",
      "d  0   -0.635685\n",
      "   1   -0.121559\n",
      "   2    1.713326\n",
      "dtype: float64\n"
     ]
    }
   ],
   "execution_count": 1
  },
  {
   "metadata": {
    "ExecuteTime": {
     "end_time": "2025-06-13T11:36:11.003393Z",
     "start_time": "2025-06-13T11:36:10.997756Z"
    }
   },
   "cell_type": "code",
   "source": [
    "print(type(ser_obj.index))\n",
    "print(ser_obj.index)"
   ],
   "id": "76e9790b9c04312",
   "outputs": [
    {
     "name": "stdout",
     "output_type": "stream",
     "text": [
      "<class 'pandas.core.indexes.multi.MultiIndex'>\n",
      "MultiIndex([('a', 0),\n",
      "            ('a', 1),\n",
      "            ('a', 2),\n",
      "            ('b', 0),\n",
      "            ('b', 1),\n",
      "            ('b', 2),\n",
      "            ('c', 0),\n",
      "            ('c', 1),\n",
      "            ('c', 2),\n",
      "            ('d', 0),\n",
      "            ('d', 1),\n",
      "            ('d', 2)],\n",
      "           )\n"
     ]
    }
   ],
   "execution_count": 2
  },
  {
   "metadata": {
    "ExecuteTime": {
     "end_time": "2025-06-13T11:36:11.013487Z",
     "start_time": "2025-06-13T11:36:11.004388Z"
    }
   },
   "cell_type": "code",
   "source": [
    "# 通过索引 'c' 获取该索引所对应的值\n",
    "ser_obj['c']"
   ],
   "id": "ff958b08b817c334",
   "outputs": [
    {
     "data": {
      "text/plain": [
       "0    0.873791\n",
       "1    0.476920\n",
       "2    1.828015\n",
       "dtype: float64"
      ]
     },
     "execution_count": 3,
     "metadata": {},
     "output_type": "execute_result"
    }
   ],
   "execution_count": 3
  },
  {
   "metadata": {
    "ExecuteTime": {
     "end_time": "2025-06-13T11:36:11.021099Z",
     "start_time": "2025-06-13T11:36:11.014484Z"
    }
   },
   "cell_type": "code",
   "source": [
    "# 通过 一级索引'b' ，二级索引2 获取该索引所对应的值\n",
    "ser_obj['b',2] #取某个元素"
   ],
   "id": "4ed28ff0ede219a2",
   "outputs": [
    {
     "data": {
      "text/plain": [
       "-0.13289323132355702"
      ]
     },
     "execution_count": 4,
     "metadata": {},
     "output_type": "execute_result"
    }
   ],
   "execution_count": 4
  },
  {
   "metadata": {
    "ExecuteTime": {
     "end_time": "2025-06-13T11:36:48.972017Z",
     "start_time": "2025-06-13T11:36:48.964616Z"
    }
   },
   "cell_type": "code",
   "source": [
    "# 交换索引的层级\n",
    "print(ser_obj.swaplevel())"
   ],
   "id": "f7ff3629197f4630",
   "outputs": [
    {
     "name": "stdout",
     "output_type": "stream",
     "text": [
      "0  a    1.006445\n",
      "1  a    0.778926\n",
      "2  a    0.111942\n",
      "0  b   -0.840675\n",
      "1  b   -0.923971\n",
      "2  b   -0.132893\n",
      "0  c    0.873791\n",
      "1  c    0.476920\n",
      "2  c    1.828015\n",
      "0  d   -0.635685\n",
      "1  d   -0.121559\n",
      "2  d    1.713326\n",
      "dtype: float64\n"
     ]
    },
    {
     "data": {
      "text/plain": [
       "a  0    1.006445\n",
       "   1    0.778926\n",
       "   2    0.111942\n",
       "b  0   -0.840675\n",
       "   1   -0.923971\n",
       "   2   -0.132893\n",
       "c  0    0.873791\n",
       "   1    0.476920\n",
       "   2    1.828015\n",
       "d  0   -0.635685\n",
       "   1   -0.121559\n",
       "   2    1.713326\n",
       "dtype: float64"
      ]
     },
     "execution_count": 9,
     "metadata": {},
     "output_type": "execute_result"
    }
   ],
   "execution_count": 9
  },
  {
   "metadata": {
    "ExecuteTime": {
     "end_time": "2025-06-13T11:36:11.042077Z",
     "start_time": "2025-06-13T11:36:11.029565Z"
    }
   },
   "cell_type": "code",
   "source": [
    "#拆开 i 层索引\n",
    "ser_obj.unstack(1) "
   ],
   "id": "7c299bd9796eb9e7",
   "outputs": [
    {
     "data": {
      "text/plain": [
       "          0         1         2\n",
       "a  1.006445  0.778926  0.111942\n",
       "b -0.840675 -0.923971 -0.132893\n",
       "c  0.873791  0.476920  1.828015\n",
       "d -0.635685 -0.121559  1.713326"
      ],
      "text/html": [
       "<div>\n",
       "<style scoped>\n",
       "    .dataframe tbody tr th:only-of-type {\n",
       "        vertical-align: middle;\n",
       "    }\n",
       "\n",
       "    .dataframe tbody tr th {\n",
       "        vertical-align: top;\n",
       "    }\n",
       "\n",
       "    .dataframe thead th {\n",
       "        text-align: right;\n",
       "    }\n",
       "</style>\n",
       "<table border=\"1\" class=\"dataframe\">\n",
       "  <thead>\n",
       "    <tr style=\"text-align: right;\">\n",
       "      <th></th>\n",
       "      <th>0</th>\n",
       "      <th>1</th>\n",
       "      <th>2</th>\n",
       "    </tr>\n",
       "  </thead>\n",
       "  <tbody>\n",
       "    <tr>\n",
       "      <th>a</th>\n",
       "      <td>1.006445</td>\n",
       "      <td>0.778926</td>\n",
       "      <td>0.111942</td>\n",
       "    </tr>\n",
       "    <tr>\n",
       "      <th>b</th>\n",
       "      <td>-0.840675</td>\n",
       "      <td>-0.923971</td>\n",
       "      <td>-0.132893</td>\n",
       "    </tr>\n",
       "    <tr>\n",
       "      <th>c</th>\n",
       "      <td>0.873791</td>\n",
       "      <td>0.476920</td>\n",
       "      <td>1.828015</td>\n",
       "    </tr>\n",
       "    <tr>\n",
       "      <th>d</th>\n",
       "      <td>-0.635685</td>\n",
       "      <td>-0.121559</td>\n",
       "      <td>1.713326</td>\n",
       "    </tr>\n",
       "  </tbody>\n",
       "</table>\n",
       "</div>"
      ]
     },
     "execution_count": 6,
     "metadata": {},
     "output_type": "execute_result"
    }
   ],
   "execution_count": 6
  }
 ],
 "metadata": {
  "kernelspec": {
   "display_name": "Python 3",
   "language": "python",
   "name": "python3"
  },
  "language_info": {
   "codemirror_mode": {
    "name": "ipython",
    "version": 2
   },
   "file_extension": ".py",
   "mimetype": "text/x-python",
   "name": "python",
   "nbconvert_exporter": "python",
   "pygments_lexer": "ipython2",
   "version": "2.7.6"
  }
 },
 "nbformat": 4,
 "nbformat_minor": 5
}
