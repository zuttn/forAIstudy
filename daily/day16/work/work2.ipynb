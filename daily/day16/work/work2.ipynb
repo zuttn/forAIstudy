{
 "cells": [
  {
   "cell_type": "code",
   "id": "initial_id",
   "metadata": {
    "collapsed": true,
    "ExecuteTime": {
     "end_time": "2025-06-13T13:44:33.288293Z",
     "start_time": "2025-06-13T13:44:31.421253Z"
    }
   },
   "source": [
    "import pandas as pd\n",
    "import numpy as np\n",
    "\n",
    "dict_obj = {'key1' : ['a', 'b', 'a', 'b', \n",
    "                      'a', 'b', 'a', 'a'],\n",
    "            'key2' : ['one', 'one', 'two', 'three',\n",
    "                      'two', 'two', 'one', 'three'],\n",
    "            'data1': [np.random.randint(1,10) for i in range(8)],\n",
    "            'data2': [np.random.randint(1,10) for i in range(8)]}\n",
    "df_obj = pd.DataFrame(dict_obj)\n",
    "print(df_obj)"
   ],
   "outputs": [
    {
     "name": "stdout",
     "output_type": "stream",
     "text": [
      "  key1   key2  data1  data2\n",
      "0    a    one      3      2\n",
      "1    b    one      6      9\n",
      "2    a    two      9      3\n",
      "3    b  three      1      1\n",
      "4    a    two      8      9\n",
      "5    b    two      4      9\n",
      "6    a    one      1      9\n",
      "7    a  three      1      7\n"
     ]
    }
   ],
   "execution_count": 2
  },
  {
   "metadata": {},
   "cell_type": "raw",
   "source": "# 按 key1 分组",
   "id": "bdba2fea1e5e656a"
  },
  {
   "metadata": {
    "ExecuteTime": {
     "end_time": "2025-06-13T13:44:33.296168Z",
     "start_time": "2025-06-13T13:44:33.289288Z"
    }
   },
   "cell_type": "code",
   "source": [
    "key1_group = df_obj.groupby('key1')\n",
    "key1_group"
   ],
   "id": "89428b751fd798e",
   "outputs": [
    {
     "data": {
      "text/plain": [
       "<pandas.core.groupby.generic.DataFrameGroupBy object at 0x000002120E62F0B0>"
      ]
     },
     "execution_count": 3,
     "metadata": {},
     "output_type": "execute_result"
    }
   ],
   "execution_count": 3
  },
  {
   "metadata": {},
   "cell_type": "raw",
   "source": "# 求key1 分组后 data1 和 data2 的均值",
   "id": "3e77c969a9fb24b1"
  },
  {
   "metadata": {
    "ExecuteTime": {
     "end_time": "2025-06-13T13:54:04.834050Z",
     "start_time": "2025-06-13T13:54:04.826767Z"
    }
   },
   "cell_type": "code",
   "source": [
    "key1_group.mean(numeric_only=True)\n",
    "\n",
    "# numeric_only  ---> 只计算 含有数字的列\n",
    "# numeric_only=None\t根据上下文自动推断（可能会触发警告）\n",
    "# numeric_only=False\t尝试包括所有列（可能出错或返回 NaN）"
   ],
   "id": "7055ed3d89456c93",
   "outputs": [
    {
     "data": {
      "text/plain": [
       "         data1     data2\n",
       "key1                    \n",
       "a     4.400000  6.000000\n",
       "b     3.666667  6.333333"
      ],
      "text/html": [
       "<div>\n",
       "<style scoped>\n",
       "    .dataframe tbody tr th:only-of-type {\n",
       "        vertical-align: middle;\n",
       "    }\n",
       "\n",
       "    .dataframe tbody tr th {\n",
       "        vertical-align: top;\n",
       "    }\n",
       "\n",
       "    .dataframe thead th {\n",
       "        text-align: right;\n",
       "    }\n",
       "</style>\n",
       "<table border=\"1\" class=\"dataframe\">\n",
       "  <thead>\n",
       "    <tr style=\"text-align: right;\">\n",
       "      <th></th>\n",
       "      <th>data1</th>\n",
       "      <th>data2</th>\n",
       "    </tr>\n",
       "    <tr>\n",
       "      <th>key1</th>\n",
       "      <th></th>\n",
       "      <th></th>\n",
       "    </tr>\n",
       "  </thead>\n",
       "  <tbody>\n",
       "    <tr>\n",
       "      <th>a</th>\n",
       "      <td>4.400000</td>\n",
       "      <td>6.000000</td>\n",
       "    </tr>\n",
       "    <tr>\n",
       "      <th>b</th>\n",
       "      <td>3.666667</td>\n",
       "      <td>6.333333</td>\n",
       "    </tr>\n",
       "  </tbody>\n",
       "</table>\n",
       "</div>"
      ]
     },
     "execution_count": 7,
     "metadata": {},
     "output_type": "execute_result"
    }
   ],
   "execution_count": 7
  },
  {
   "metadata": {
    "ExecuteTime": {
     "end_time": "2025-06-13T14:01:29.915086Z",
     "start_time": "2025-06-13T14:01:29.908438Z"
    }
   },
   "cell_type": "code",
   "source": [
    "# 获取按key1 分组后的df\n",
    "grouped = df_obj.groupby('key1')\n",
    "print(grouped.head())\n",
    "\n",
    "\n",
    "# 统计索引为 data1 的列的数量\n",
    "print('*' *60)\n",
    "counted = grouped['data1'].count()\n",
    "print(counted.head())\n",
    "\n",
    "# 获取统计后，索引 a 一共有多少行\n",
    "print('*' *60)\n",
    "print(counted.loc['a'])\n"
   ],
   "id": "cff1c236a6a66cc4",
   "outputs": [
    {
     "name": "stdout",
     "output_type": "stream",
     "text": [
      "  key1   key2  data1  data2\n",
      "0    a    one      3      2\n",
      "1    b    one      6      9\n",
      "2    a    two      9      3\n",
      "3    b  three      1      1\n",
      "4    a    two      8      9\n",
      "5    b    two      4      9\n",
      "6    a    one      1      9\n",
      "7    a  three      1      7\n",
      "************************************************************\n",
      "key1\n",
      "a    5\n",
      "b    3\n",
      "Name: data1, dtype: int64\n",
      "************************************************************\n",
      "5\n"
     ]
    }
   ],
   "execution_count": 22
  }
 ],
 "metadata": {
  "kernelspec": {
   "display_name": "Python 3",
   "language": "python",
   "name": "python3"
  },
  "language_info": {
   "codemirror_mode": {
    "name": "ipython",
    "version": 2
   },
   "file_extension": ".py",
   "mimetype": "text/x-python",
   "name": "python",
   "nbconvert_exporter": "python",
   "pygments_lexer": "ipython2",
   "version": "2.7.6"
  }
 },
 "nbformat": 4,
 "nbformat_minor": 5
}
