{
 "cells": [
  {
   "cell_type": "code",
   "metadata": {
    "ExecuteTime": {
     "end_time": "2025-06-18T10:56:57.969207Z",
     "start_time": "2025-06-18T10:56:57.953830Z"
    }
   },
   "source": [
    "from sklearn.datasets import load_iris\n",
    "from sklearn.model_selection import train_test_split, GridSearchCV\n",
    "from sklearn.preprocessing import StandardScaler\n",
    "from sklearn.neighbors import KNeighborsClassifier\n",
    "from sklearn.metrics import accuracy_score, classification_report\n",
    "\n",
    "# 1. 加载鸢尾花数据集\n",
    "iris = load_iris()\n",
    "\n",
    "# X：数据内容\n",
    "X = iris.data\n",
    "# y：数据标签（监督式学习）\n",
    "y = iris.target\n",
    "\n",
    "# 2. 划分训练集与测试集，80%+20%\n",
    "X_train, X_test, y_train, y_test = train_test_split(\n",
    "    X, y, test_size=0.2, random_state=42\n",
    ")\n",
    "\n",
    "# 3. 标准化数据（对KNN非常重要，因为它基于距离）\n",
    "# $注意： y_train（标签）不需要标准化。标准化通常只针对特征X进行，因为KNN等算法是基于特征空间的距离计算的，标签y只是分类的目标，不参与距离计算。\n",
    "scaler = StandardScaler()\n",
    "X_train_scaled = scaler.fit_transform(X_train)  # 标准化训练集\n",
    "X_test_scaled = scaler.transform(X_test)        # 标准化测试集\n",
    "\n",
    "\n",
    "# 4. 初始化KNN模型，设置邻居数为5（n_neighbors=5），用于后续训练\n",
    "knn = KNeighborsClassifier(n_neighbors=26)      # 邻居数量过大，会导致模型准确率下降\n",
    "\n",
    "# 5. 用标准化后的训练集数据拟合KNN模型，完成模型训练\n",
    "knn.fit(X_train_scaled, y_train)\n",
    "\n",
    "# 5. 进行预测。predict方法返回的是测试集样本的预测类别标签，即每个样本被模型判定为哪一类。例如：[0 1 2 1 ...]\n",
    "y_pred = knn.predict(X_test_scaled)\n",
    "\n",
    "# 6. 模型评估\n",
    "print(\"准确率：\", accuracy_score(y_test, y_pred))\n",
    "print(\"分类报告：\\n\", classification_report(y_test, y_pred, target_names=iris.target_names))\n"
   ],
   "outputs": [
    {
     "name": "stdout",
     "output_type": "stream",
     "text": [
      "准确率： 0.9666666666666667\n",
      "分类报告：\n",
      "               precision    recall  f1-score   support\n",
      "\n",
      "      setosa       1.00      1.00      1.00        10\n",
      "  versicolor       0.90      1.00      0.95         9\n",
      "   virginica       1.00      0.91      0.95        11\n",
      "\n",
      "    accuracy                           0.97        30\n",
      "   macro avg       0.97      0.97      0.97        30\n",
      "weighted avg       0.97      0.97      0.97        30\n",
      "\n"
     ]
    }
   ],
   "execution_count": 8
  },
  {
   "cell_type": "markdown",
   "metadata": {},
   "source": [
    "## 采用网格搜索优化超参数"
   ]
  },
  {
   "cell_type": "code",
   "execution_count": null,
   "metadata": {},
   "outputs": [
    {
     "name": "stdout",
     "output_type": "stream",
     "text": [
      "最优参数： {'n_neighbors': 7, 'p': 1, 'weights': 'distance'}\n",
      "最优得分（训练集CV）： 0.9583333333333334\n",
      "测试集准确率： 1.0\n",
      "分类报告：\n",
      "               precision    recall  f1-score   support\n",
      "\n",
      "      setosa       1.00      1.00      1.00        10\n",
      "  versicolor       1.00      1.00      1.00         9\n",
      "   virginica       1.00      1.00      1.00        11\n",
      "\n",
      "    accuracy                           1.00        30\n",
      "   macro avg       1.00      1.00      1.00        30\n",
      "weighted avg       1.00      1.00      1.00        30\n",
      "\n"
     ]
    }
   ],
   "source": [
    "# 加载数据，划分训练集和测试集，标准化数据，初始化KNN模型\n",
    "\n",
    "# 定义模型和参数网格\n",
    "param_grid = {\n",
    "    'n_neighbors': [3, 5, 7, 9],\n",
    "    'weights': ['uniform', 'distance'],    # uniform=相等权重，distance=距离加权\n",
    "    'p': [1, 2]  # 1=曼哈顿距离, 2=欧几里得距离\n",
    "}\n",
    "\n",
    "# 使用 GridSearchCV 进行超参数搜索\n",
    "# 创建GridSearchCV对象，传入KNN模型、参数网格，使用3折交叉验证，评估指标（标签)为准确率\n",
    "grid_search = GridSearchCV(knn, param_grid, cv=3, scoring='accuracy')\n",
    "\n",
    "# 在训练集上进行网格搜索，寻找最佳超参数组合\n",
    "grid_search.fit(X_train_scaled, y_train)\n",
    "print(\"最优参数：\", grid_search.best_params_)\n",
    "print(\"最优得分（训练集CV）：\", grid_search.best_score_)\n",
    "\n",
    "# 这里不需要再调用knn.fit，因为best_knn已经由GridSearchCV在fit过程中自动训练好了\n",
    "\n",
    "\n",
    "# 用最优模型预测测试集\n",
    "best_knn = grid_search.best_estimator_\n",
    "\n",
    "# 这里可以直接用best_knn进行predict，是因为GridSearchCV在fit时已经用最优参数自动训练好了模型\n",
    "y_pred = best_knn.predict(X_test_scaled)\n",
    "\n",
    "# 评估模型\n",
    "print(\"测试集准确率：\", accuracy_score(y_test, y_pred))\n",
    "print(\"分类报告：\\n\", classification_report(y_test, y_pred, target_names=iris.target_names))"
   ]
  }
 ],
 "metadata": {
  "kernelspec": {
   "display_name": "Python 3",
   "language": "python",
   "name": "python3"
  },
  "language_info": {
   "codemirror_mode": {
    "name": "ipython",
    "version": 3
   },
   "file_extension": ".py",
   "mimetype": "text/x-python",
   "name": "python",
   "nbconvert_exporter": "python",
   "pygments_lexer": "ipython3",
   "version": "3.12.3"
  }
 },
 "nbformat": 4,
 "nbformat_minor": 2
}
